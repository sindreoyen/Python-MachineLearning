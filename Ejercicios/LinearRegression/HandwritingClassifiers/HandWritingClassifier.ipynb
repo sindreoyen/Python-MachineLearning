{
 "cells": [
  {
   "cell_type": "markdown",
   "metadata": {},
   "source": [
    "# Delivery: Linear Models (Part 2) - by Sindre Øyen\n",
    "\n",
    "In this part 2 of the delivery, I will explore methods for using linear models to classify handwritten digits."
   ]
  },
  {
   "cell_type": "markdown",
   "metadata": {},
   "source": [
    "---"
   ]
  },
  {
   "cell_type": "code",
   "execution_count": 58,
   "metadata": {},
   "outputs": [],
   "source": [
    "import matplotlib.pyplot as plt\n",
    "from sklearn.datasets import load_digits\n",
    "from sklearn.model_selection import train_test_split"
   ]
  },
  {
   "cell_type": "code",
   "execution_count": 59,
   "metadata": {},
   "outputs": [],
   "source": [
    "digits = load_digits()"
   ]
  },
  {
   "cell_type": "markdown",
   "metadata": {},
   "source": [
    "*Visualizing the data of the first handwritten digit using matplotlib*"
   ]
  },
  {
   "cell_type": "code",
   "execution_count": 60,
   "metadata": {},
   "outputs": [
    {
     "data": {
      "text/plain": [
       "<Figure size 640x480 with 0 Axes>"
      ]
     },
     "metadata": {},
     "output_type": "display_data"
    },
    {
     "data": {
      "image/png": "[encoded data removed]",
      "text/plain": [
       "<Figure size 480x480 with 1 Axes>"
      ]
     },
     "metadata": {},
     "output_type": "display_data"
    },
    {
     "name": "stdout",
     "output_type": "stream",
     "text": [
      "0\n"
     ]
    }
   ],
   "source": [
    "plt.gray()\n",
    "plt.matshow(digits.images[0]) \n",
    "plt.show() \n",
    "print(digits.target[0])"
   ]
  },
  {
   "cell_type": "markdown",
   "metadata": {},
   "source": [
    "### Exercise 6\n",
    "Apply logistic regression to obtain a classifier for this multiclass problem. Below is the task description:"
   ]
  },
  {
   "cell_type": "markdown",
   "metadata": {},
   "source": [
    "Algunas observaciones:\n",
    "\n",
    "* Originalmente, en `digits.images` tenemos un array con 1797 arrays 8x8 (es decir, cada imagen viene en 64 pixeles distribuidos en 8 filas y 8 clolumnas). Para poder aplicar los clasificadores, cada imagen debe ser un vector de 64 componentes. Esto se consigue de manera sencilla con el método `reshape`de numpy. \n",
    "* Es necesario separar el conjunto de imágenes en entrenamiento y prueba. No olvidar hacerlo de manera estratificada (usando la opción `stratify`de `train_test_split`)\n",
    "* Medir el rendimiento usando `score`. "
   ]
  },
  {
   "cell_type": "code",
   "execution_count": 61,
   "metadata": {},
   "outputs": [],
   "source": [
    "from numpy import reshape"
   ]
  },
  {
   "cell_type": "code",
   "execution_count": 158,
   "metadata": {},
   "outputs": [
    {
     "name": "stdout",
     "output_type": "stream",
     "text": [
      "[ 0.  0.  5. 13.  9.  1.  0.  0.  0.  0. 13. 15. 10. 15.  5.  0.  0.  3.\n",
      " 15.  2.  0. 11.  8.  0.  0.  4. 12.  0.  0.  8.  8.  0.  0.  5.  8.  0.\n",
      "  0.  9.  8.  0.  0.  4. 11.  0.  1. 12.  7.  0.  0.  2. 14.  5. 10. 12.\n",
      "  0.  0.  0.  0.  6. 13. 10.  0.  0.  0.]\n"
     ]
    }
   ],
   "source": [
    "# Reshape the image data to vectors of length 64\n",
    "digits.images = [reshape(image, (64,)) for image in digits.images]\n",
    "print(digits.images[0])"
   ]
  },
  {
   "cell_type": "code",
   "execution_count": 187,
   "metadata": {},
   "outputs": [],
   "source": [
    "# Split the data into training and test sets\n",
    "X_train, X_test, y_train, y_test = \\\n",
    "train_test_split(digits.images, digits.target, test_size=0.25, random_state=22, stratify=digits.target)"
   ]
  },
  {
   "cell_type": "markdown",
   "metadata": {},
   "source": [
    "Training a logistic regression model to classify the test data, based on the training data."
   ]
  },
  {
   "cell_type": "code",
   "execution_count": 160,
   "metadata": {},
   "outputs": [
    {
     "name": "stdout",
     "output_type": "stream",
     "text": [
      "Logistic regression training accuracy: 1.0\n",
      "Logistic regression test accuracy: 0.9644444444444444\n"
     ]
    }
   ],
   "source": [
    "# Using logistic regression\n",
    "from sklearn.linear_model import LogisticRegression\n",
    "\n",
    "# Create a logistic regression object\n",
    "logreg = LogisticRegression(C=0.4, max_iter=10000).fit(X_train, y_train)\n",
    "print(\"Logistic regression training accuracy:\", logreg.score(X_train, y_train))\n",
    "print(\"Logistic regression test accuracy:\", logreg.score(X_test, y_test))"
   ]
  },
  {
   "cell_type": "markdown",
   "metadata": {},
   "source": [
    "### Exercise 7\n",
    "Having identified a well performing classifier, I will now analyze the data further to understand the inner workings even more. Under you will find the analysis points further elaborated:\n",
    "\n",
    "- To analyze the classifier I will investigate the confusion matrix to understand which two digits are most commonly mistaken for one another. \n",
    "\n",
    "- I will extract one digit that has been correctly classified, and one that has been incorrectly classified. To understand more about these two digits, I will use the `predict_proba` to illustrate the numbers behind the classifications for each of them. \n",
    "- Furthermore, having identified the most commonly mistaken digits for the classifier, I will extract all the data for these two digits and create a data set with only them. \n",
    "- Lastly, I will use the data sets from these most commonly mistaken digits to create a *specialist* classifier, only trained to identify these two. With this classifier, as with all, I will attempt to adjust the parameters to ensure good performance."
   ]
  },
  {
   "cell_type": "code",
   "execution_count": 145,
   "metadata": {},
   "outputs": [],
   "source": [
    "from sklearn.metrics import confusion_matrix\n",
    "import numpy as np"
   ]
  },
  {
   "cell_type": "markdown",
   "metadata": {},
   "source": [
    "*Firstly, I will understand the confusion matrix with a detailed heatmap*"
   ]
  },
  {
   "cell_type": "code",
   "execution_count": 146,
   "metadata": {},
   "outputs": [
    {
     "name": "stdout",
     "output_type": "stream",
     "text": [
      "[0, 1, 2, 3, 4, 5, 6, 7, 8, 9]\n",
      "[[45  0  0  0  0  0  0  0  0  0]\n",
      " [ 0 42  1  0  0  0  0  0  3  0]\n",
      " [ 0  0 44  0  0  0  0  0  0  0]\n",
      " [ 0  0  0 41  0  3  0  0  1  1]\n",
      " [ 0  0  0  0 45  0  0  0  0  0]\n",
      " [ 0  0  0  0  0 44  0  0  0  2]\n",
      " [ 0  0  0  0  0  0 45  0  0  0]\n",
      " [ 0  0  0  0  0  0  0 44  0  1]\n",
      " [ 0  2  0  0  0  0  0  1 40  0]\n",
      " [ 0  0  0  0  0  0  0  1  0 44]]\n"
     ]
    },
    {
     "data": {
      "image/png": "[encoded data removed]",
      "text/plain": [
       "<Figure size 640x480 with 1 Axes>"
      ]
     },
     "metadata": {},
     "output_type": "display_data"
    }
   ],
   "source": [
    "# Get the predictions for the test data\n",
    "y_pred = logreg.predict(X_test)\n",
    "labels = sorted(np.unique(digits.target))\n",
    "print(labels)\n",
    "\n",
    "# Create the confusion matrix\n",
    "conf_mat = confusion_matrix(y_test, y_pred)\n",
    "print(conf_mat)\n",
    "\n",
    "plt.imshow(conf_mat, cmap='Accent_r', interpolation='nearest')\n",
    "tick_marks = np.arange(len(labels))\n",
    "plt.xticks(tick_marks, labels)\n",
    "plt.yticks(tick_marks, labels)\n",
    "plt.xlabel('Predicted')\n",
    "plt.ylabel('Actual')\n",
    "\n",
    "# Add the numbers to the plot\n",
    "for i in range(len(labels)):\n",
    "    for j in range(len(labels)):\n",
    "        plt.text(j, i, conf_mat[i, j], ha='center', va='center', color='white')\n",
    "\n",
    "plt.show()"
   ]
  },
  {
   "cell_type": "markdown",
   "metadata": {},
   "source": [
    "From the depiction above, it is clear that the errors are quite spread. There is not a super clear trend here. However, three \"1\"s have been predicted to be an \"8\", and two \"8\" have been predicted to be a \"1\" - which is the most prevalent combination of digits that are getting confused for each other, and will thus be the focus for the specialized classifier."
   ]
  },
  {
   "cell_type": "markdown",
   "metadata": {},
   "source": [
    "Using `predict_proba` to better understand a case where the classifier misclassifies an image."
   ]
  },
  {
   "cell_type": "code",
   "execution_count": 147,
   "metadata": {},
   "outputs": [
    {
     "name": "stdout",
     "output_type": "stream",
     "text": [
      "The first misclassified image is at index: 27\n",
      "The predicted label for this image is: 8\n",
      "The actual label for this image is: 1\n"
     ]
    },
    {
     "data": {
      "text/plain": [
       "<Figure size 640x480 with 0 Axes>"
      ]
     },
     "metadata": {},
     "output_type": "display_data"
    },
    {
     "data": {
      "image/png": "[encoded data removed]",
      "text/plain": [
       "<Figure size 480x480 with 1 Axes>"
      ]
     },
     "metadata": {},
     "output_type": "display_data"
    },
    {
     "name": "stdout",
     "output_type": "stream",
     "text": [
      "The probabilities for the misclassified image are: [4.07069026e-09 2.78532682e-01 9.37225783e-06 1.99690825e-03\n",
      " 3.15748424e-02 3.96078677e-12 4.57215801e-04 1.63272171e-04\n",
      " 6.87265699e-01 4.56386943e-09]\n"
     ]
    },
    {
     "data": {
      "image/png": "[encoded data removed]",
      "text/plain": [
       "<Figure size 640x480 with 1 Axes>"
      ]
     },
     "metadata": {},
     "output_type": "display_data"
    }
   ],
   "source": [
    "# Find the first misclassified image\n",
    "misclassified = np.where(y_test != y_pred)[0][0]\n",
    "print(\"The first misclassified image is at index:\", misclassified)\n",
    "print(\"The predicted label for this image is:\", y_pred[misclassified])\n",
    "print(\"The actual label for this image is:\", y_test[misclassified])\n",
    "\n",
    "# Plot the misclassified image\n",
    "plt.gray()\n",
    "plt.matshow(X_test[misclassified].reshape(8, 8))\n",
    "plt.show()\n",
    "\n",
    "# Find the probabilities for the misclassified image\n",
    "probs = logreg.predict_proba(X_test[misclassified].reshape(1, -1))[0]\n",
    "print(\"The probabilities for the misclassified image are:\", probs)\n",
    "# Plot the probabilities\n",
    "plt.bar(np.arange(0, 10), probs)\n",
    "plt.xticks(np.arange(0, 10), labels)\n",
    "plt.xlabel('Class')\n",
    "plt.ylabel('Probability')\n",
    "plt.show()"
   ]
  },
  {
   "cell_type": "markdown",
   "metadata": {},
   "source": [
    "As one can see in this case, the probability distribution for this wrongly classified image is spread across different possible classifications. This resulted in the model predicting the digit to be an eight, when it actually was a one. As one can see in the depiction of the number, it is indeed not very clear - and this example illustrates well how the model is not very fit to these edge cases.\n",
    "\n",
    "---"
   ]
  },
  {
   "cell_type": "code",
   "execution_count": 148,
   "metadata": {},
   "outputs": [
    {
     "name": "stdout",
     "output_type": "stream",
     "text": [
      "The first correctly classified image is at index: 0\n",
      "The label for this image is: 2\n"
     ]
    },
    {
     "data": {
      "text/plain": [
       "<Figure size 640x480 with 0 Axes>"
      ]
     },
     "metadata": {},
     "output_type": "display_data"
    },
    {
     "data": {
      "image/png": "[encoded data removed]",
      "text/plain": [
       "<Figure size 480x480 with 1 Axes>"
      ]
     },
     "metadata": {},
     "output_type": "display_data"
    },
    {
     "name": "stdout",
     "output_type": "stream",
     "text": [
      "The probabilities for the correctly classified image are: [1.17968752e-14 3.03204551e-16 9.99985072e-01 1.49228967e-05\n",
      " 2.28245871e-20 1.81507279e-14 3.58789227e-16 2.33756295e-12\n",
      " 4.99136720e-09 2.01011941e-11]\n"
     ]
    },
    {
     "data": {
      "image/png": "[encoded data removed]",
      "text/plain": [
       "<Figure size 640x480 with 1 Axes>"
      ]
     },
     "metadata": {},
     "output_type": "display_data"
    }
   ],
   "source": [
    "# Find the first correctly classified image\n",
    "classified = np.where(y_test == y_pred)[0][0]\n",
    "print(\"The first correctly classified image is at index:\", classified)\n",
    "print(\"The label for this image is:\", y_pred[classified])\n",
    "\n",
    "# Plot the image\n",
    "plt.gray()\n",
    "plt.matshow(X_test[classified].reshape(8, 8))\n",
    "plt.show()\n",
    "\n",
    "# Find the probabilities for the image\n",
    "probs = logreg.predict_proba(X_test[classified].reshape(1, -1))[0]\n",
    "print(\"The probabilities for the correctly classified image are:\", probs)\n",
    "# Plot the probabilities\n",
    "plt.bar(np.arange(0, 10), probs)\n",
    "plt.xticks(np.arange(0, 10), labels)\n",
    "plt.xlabel('Class')\n",
    "plt.ylabel('Probability')\n",
    "plt.show()"
   ]
  },
  {
   "cell_type": "markdown",
   "metadata": {},
   "source": [
    "---\n",
    "Lastly, for this task, I will direct the focus towards developing a specialized model that will focus mainly on differentiating between the most common confusion area for the above model; namely between 1 and 8."
   ]
  },
  {
   "cell_type": "markdown",
   "metadata": {},
   "source": [
    "Firstly we have to generate the new data sets"
   ]
  },
  {
   "cell_type": "code",
   "execution_count": 168,
   "metadata": {},
   "outputs": [],
   "source": [
    "# Extracting the data and target for the 1s and 8s\n",
    "ones_indices = np.where(digits.target == 1)[0]\n",
    "eights_indices = np.where(digits.target == 8)[0]\n",
    "indices = np.concatenate((ones_indices, eights_indices))\n",
    "\n",
    "data = np.array([digits.images[i] for i in indices])\n",
    "target = np.array([digits.target[i] for i in indices])\n",
    "\n",
    "# Splitting the data into training and test sets\n",
    "X_sp_train, X_sp_test, y_sp_train, y_sp_test = \\\n",
    "train_test_split(data, target, test_size=0.25, random_state=22, stratify=target)"
   ]
  },
  {
   "cell_type": "markdown",
   "metadata": {},
   "source": [
    "Secondly, we train the model."
   ]
  },
  {
   "cell_type": "code",
   "execution_count": 172,
   "metadata": {},
   "outputs": [],
   "source": [
    "# Creating a logistic regression object\n",
    "specializedLogreg = LogisticRegression(C=0.4, max_iter=10000).fit(X_sp_train, y_sp_train)"
   ]
  },
  {
   "cell_type": "code",
   "execution_count": 173,
   "metadata": {},
   "outputs": [
    {
     "name": "stdout",
     "output_type": "stream",
     "text": [
      "Logistic regression training accuracy: 1.0\n",
      "Logistic regression test accuracy: 1.0\n"
     ]
    }
   ],
   "source": [
    "# Printing the accuracy scores\n",
    "print(\"Logistic regression training accuracy:\", specializedLogreg.score(X_sp_train, y_sp_train))\n",
    "print(\"Logistic regression test accuracy:\", specializedLogreg.score(X_sp_test, y_sp_test))"
   ]
  },
  {
   "cell_type": "markdown",
   "metadata": {},
   "source": [
    "---\n",
    "### Exercise 8 \n",
    "\n",
    "Utilize SVC for the problem as well"
   ]
  },
  {
   "cell_type": "code",
   "execution_count": 301,
   "metadata": {},
   "outputs": [
    {
     "name": "stdout",
     "output_type": "stream",
     "text": [
      "SVC training accuracy: 1.0\n",
      "SVC test accuracy: 0.9911111111111112\n"
     ]
    }
   ],
   "source": [
    "from sklearn.svm import SVC\n",
    "\n",
    "# Creating the SVC model\n",
    "svc = SVC(kernel='poly', C=0.0099, gamma='auto').fit(X_train, y_train)\n",
    "\n",
    "# Printing the accuracy scores\n",
    "print(\"SVC training accuracy:\", svc.score(X_train, y_train))\n",
    "print(\"SVC test accuracy:\", svc.score(X_test, y_test))"
   ]
  },
  {
   "cell_type": "markdown",
   "metadata": {},
   "source": [
    "In the above implementation I have created an implementation with support vector machines, with kernel, using sklearn's SVC classifier. The C param, as I have explained before, defines a level of regularization - with inverse strength. Meaning that a low C value can lead to low bias but high variance - which effectively means a risk of overfitting. As for this implementation, a lower and lower C value seems to generate a better score, until some threshold. \n",
    "\n",
    "I perceive this result as an indication that the model indeed is being more and more overfitted as the C value is decreased. Even though it may seem nice to get the test scores up, it may be better to compromise a little and have the C parameter somewhat in the middle of the scale. This is to reduce the likeliness of an overfitted model, which is especially important when working with something as subject to variation as handwriting."
   ]
  }
 ],
 "metadata": {
  "kernelspec": {
   "display_name": ".venv",
   "language": "python",
   "name": "python3"
  },
  "language_info": {
   "codemirror_mode": {
    "name": "ipython",
    "version": 3
   },
   "file_extension": ".py",
   "mimetype": "text/x-python",
   "name": "python",
   "nbconvert_exporter": "python",
   "pygments_lexer": "ipython3",
   "version": "3.10.0"
  }
 },
 "nbformat": 4,
 "nbformat_minor": 2
}
