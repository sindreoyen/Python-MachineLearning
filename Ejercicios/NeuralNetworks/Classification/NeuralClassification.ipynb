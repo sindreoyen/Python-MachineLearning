{
 "cells": [
  {
   "cell_type": "markdown",
   "metadata": {},
   "source": [
    "# Task 1: Sentiment Classifier with Neural Network\n",
    "\n",
    "*In this notebook I am going to utilize neural networks to classify movie reviews as negative or positive, based on data from the IMDB reviews dataset.*\n",
    "\n",
    "---"
   ]
  },
  {
   "cell_type": "markdown",
   "metadata": {},
   "source": [
    "## Defining data sets"
   ]
  },
  {
   "cell_type": "markdown",
   "metadata": {},
   "source": [
    "*For the purpose of utlizing the data with neural networks, I will load the data using the Keras IMDB loading*"
   ]
  },
  {
   "cell_type": "code",
   "execution_count": 2,
   "metadata": {},
   "outputs": [
    {
     "name": "stderr",
     "output_type": "stream",
     "text": [
      "2023-11-27 13:16:56.079876: I tensorflow/core/platform/cpu_feature_guard.cc:182] This TensorFlow binary is optimized to use available CPU instructions in performance-critical operations.\n",
      "To enable the following instructions: AVX2 FMA, in other operations, rebuild TensorFlow with the appropriate compiler flags.\n"
     ]
    }
   ],
   "source": [
    "from tensorflow.keras.datasets import imdb\n",
    "import os"
   ]
  },
  {
   "cell_type": "code",
   "execution_count": 3,
   "metadata": {},
   "outputs": [],
   "source": [
    "# Use the default parameters to keras.datasets.imdb.load_data\n",
    "start_char = 1\n",
    "oov_char = 2\n",
    "index_from = 3\n",
    "imdb_data = imdb.load_data(path=\"imdb.npz\",\n",
    "                           num_words=None,\n",
    "                           skip_top=0,\n",
    "                           maxlen=None,\n",
    "                           seed=113,\n",
    "                           start_char=start_char,\n",
    "                           oov_char=oov_char,\n",
    "                           index_from=index_from)\n",
    "(x_train, y_train), (x_test, y_test) = imdb_data\n",
    "\n"
   ]
  },
  {
   "cell_type": "code",
   "execution_count": 4,
   "metadata": {},
   "outputs": [
    {
     "name": "stdout",
     "output_type": "stream",
     "text": [
      "this film was just brilliant casting location scenery story direction everyone's really suited the part they played and you could just imagine being there robert redford's is an amazing actor and now the same being director norman's father came from the same scottish island as myself so i loved the fact there was a real connection with this film the witty remarks throughout the film were great it was just brilliant so much that i bought the film as soon as it was released for retail and would recommend it to everyone to watch and the fly fishing was amazing really cried at the end it was so sad and you know what they say if you cry at a film it must have been good and this definitely was also congratulations to the two little boy's that played the part's of norman and paul they were just brilliant children are often left out of the praising list i think because the stars that play them all grown up are such a big profile for the whole film but these children are amazing and should be praised for what they have done don't you think the whole story was so lovely because it was true and was someone's life after all that was shared with us all\n",
      "please give this one a miss kristy swanson and the rest of the cast rendered terrible performances the show is flat flat flat i don't know how michael madison could have allowed this one on his plate he almost seemed to know this wasn't going to work out and his performance was quite lacklustre so all you madison fans give this a miss\n"
     ]
    }
   ],
   "source": [
    "####################### Begin\n",
    "# This code is borrowed from the keras.datasets.imdb documentation\n",
    "####################### Begin\n",
    "\n",
    "# Retrieve the word index file mapping words to indices\n",
    "word_index = imdb.get_word_index()\n",
    "# Reverse the word index to obtain a dict mapping indices to words\n",
    "# And add `index_from` to indices to sync with `x_train`\n",
    "inverted_word_index = dict(\n",
    "    (i + index_from, word) for (word, i) in word_index.items()\n",
    ")\n",
    "# Update `inverted_word_index` to include `start_char` and `oov_char`\n",
    "inverted_word_index[start_char] = \"[START]\"\n",
    "inverted_word_index[oov_char] = \"[OOV]\"\n",
    "\n",
    "####################### End\n",
    "# This code is written by me\n",
    "# Creating a function to get the sentence from a specific entry in `x_train` or `x_test`\n",
    "\n",
    "# Create a function to get the sentence from an entry in the data set\n",
    "def get_sentence_from_indices(indices: list) -> str:\n",
    "    \"\"\"\n",
    "    Get the sentence from a list of indices.\n",
    "\n",
    "    param indices: list(int)\n",
    "        List of word indices. Found in `x_train` or `x_test`.\n",
    "    return: str\n",
    "        Sentence obtained from mapping indices to words.\n",
    "    \"\"\"\n",
    "    filter = lambda i: i not in [start_char, oov_char] and inverted_word_index[i] != \"br\"\n",
    "    return \" \".join((inverted_word_index[i] for i in indices if filter(i)))\n",
    "\n",
    "# Testing with an example\n",
    "print(get_sentence_from_indices(x_train[0]))\n",
    "print(get_sentence_from_indices(x_test[0]))"
   ]
  },
  {
   "cell_type": "markdown",
   "metadata": {},
   "source": [
    "*With the data loaded, the first step is to vectorize the text. Here I am using scikit-learn's CountVectorizer to vectorize the texts*."
   ]
  },
  {
   "cell_type": "code",
   "execution_count": 5,
   "metadata": {},
   "outputs": [
    {
     "name": "stdout",
     "output_type": "stream",
     "text": [
      "(25000, 1556)\n"
     ]
    }
   ],
   "source": [
    "# Vectorize the imdb data with scikit-learn's CountVectorizer\n",
    "from sklearn.feature_extraction.text import CountVectorizer\n",
    "vectorizer = CountVectorizer(min_df=0.01, stop_words='english')\n",
    "\n",
    "texts = [get_sentence_from_indices(x) for x in x_train]\n",
    "vectorizer.fit(texts)\n",
    "\n",
    "# Vectorize the training and test sets\n",
    "X_train = vectorizer.transform([get_sentence_from_indices(x) for x in x_train])\n",
    "X_test = vectorizer.transform([get_sentence_from_indices(x) for x in x_test])\n",
    "\n",
    "print(X_train.shape)\n"
   ]
  },
  {
   "cell_type": "markdown",
   "metadata": {},
   "source": [
    "---\n",
    "## Implementing into models"
   ]
  },
  {
   "cell_type": "markdown",
   "metadata": {},
   "source": [
    "I will implement classifiers using two libraries, both the scikit-learn library and the keras library from tensorflow. The model implementations will be scikit-learn's `MLPClassifier`, as well as the `Sequential` from Keras with `Dense` layers."
   ]
  },
  {
   "cell_type": "markdown",
   "metadata": {},
   "source": [
    "##### `MLPClassifier` implementation"
   ]
  },
  {
   "cell_type": "code",
   "execution_count": 7,
   "metadata": {},
   "outputs": [],
   "source": [
    "from sklearn.neural_network import MLPClassifier\n",
    "from sklearn.model_selection import GridSearchCV"
   ]
  },
  {
   "cell_type": "markdown",
   "metadata": {},
   "source": [
    "*The task said that GridSearchCV was not necessary. However, out of curiosity I am attempting to utilize the tool in this solution. The different params in the parameter grid I am using for the GridSearchCV process is based on the documentation for MLPClassifier at [scikit-learn.org](https://scikit-learn.org/stable/modules/generated/sklearn.neural_network.MLPClassifier.html).*\n",
    "\n",
    "*By using GridSearchCV, I can automatically search through all possible combinations of these parameters and find the best combination that maximizes the model's performance.*\n"
   ]
  },
  {
   "cell_type": "markdown",
   "metadata": {},
   "source": [
    "---\n",
    "###### Note: you do not have to run the GridSearchCV as this is time intensive. The results are stated further down.\n",
    "---"
   ]
  },
  {
   "cell_type": "code",
   "execution_count": 138,
   "metadata": {},
   "outputs": [
    {
     "name": "stdout",
     "output_type": "stream",
     "text": [
      "Fitting 3 folds for each of 9 candidates, totalling 27 fits\n"
     ]
    },
    {
     "name": "stderr",
     "output_type": "stream",
     "text": [
      "/Users/sindreoyen/Desktop/Sevilla/Aprendizaje Automatico/Excercises/Python-MachineLearning/.venv/lib/python3.10/site-packages/sklearn/neural_network/_multilayer_perceptron.py:691: ConvergenceWarning: Stochastic Optimizer: Maximum iterations (100) reached and the optimization hasn't converged yet.\n",
      "  warnings.warn(\n",
      "/Users/sindreoyen/Desktop/Sevilla/Aprendizaje Automatico/Excercises/Python-MachineLearning/.venv/lib/python3.10/site-packages/sklearn/neural_network/_multilayer_perceptron.py:691: ConvergenceWarning: Stochastic Optimizer: Maximum iterations (100) reached and the optimization hasn't converged yet.\n",
      "  warnings.warn(\n",
      "/Users/sindreoyen/Desktop/Sevilla/Aprendizaje Automatico/Excercises/Python-MachineLearning/.venv/lib/python3.10/site-packages/sklearn/neural_network/_multilayer_perceptron.py:691: ConvergenceWarning: Stochastic Optimizer: Maximum iterations (100) reached and the optimization hasn't converged yet.\n",
      "  warnings.warn(\n",
      "/Users/sindreoyen/Desktop/Sevilla/Aprendizaje Automatico/Excercises/Python-MachineLearning/.venv/lib/python3.10/site-packages/sklearn/neural_network/_multilayer_perceptron.py:691: ConvergenceWarning: Stochastic Optimizer: Maximum iterations (100) reached and the optimization hasn't converged yet.\n",
      "  warnings.warn(\n",
      "/Users/sindreoyen/Desktop/Sevilla/Aprendizaje Automatico/Excercises/Python-MachineLearning/.venv/lib/python3.10/site-packages/sklearn/neural_network/_multilayer_perceptron.py:691: ConvergenceWarning: Stochastic Optimizer: Maximum iterations (100) reached and the optimization hasn't converged yet.\n",
      "  warnings.warn(\n",
      "/Users/sindreoyen/Desktop/Sevilla/Aprendizaje Automatico/Excercises/Python-MachineLearning/.venv/lib/python3.10/site-packages/sklearn/neural_network/_multilayer_perceptron.py:691: ConvergenceWarning: Stochastic Optimizer: Maximum iterations (100) reached and the optimization hasn't converged yet.\n",
      "  warnings.warn(\n",
      "/Users/sindreoyen/Desktop/Sevilla/Aprendizaje Automatico/Excercises/Python-MachineLearning/.venv/lib/python3.10/site-packages/sklearn/neural_network/_multilayer_perceptron.py:691: ConvergenceWarning: Stochastic Optimizer: Maximum iterations (100) reached and the optimization hasn't converged yet.\n",
      "  warnings.warn(\n",
      "/Users/sindreoyen/Desktop/Sevilla/Aprendizaje Automatico/Excercises/Python-MachineLearning/.venv/lib/python3.10/site-packages/sklearn/neural_network/_multilayer_perceptron.py:691: ConvergenceWarning: Stochastic Optimizer: Maximum iterations (100) reached and the optimization hasn't converged yet.\n",
      "  warnings.warn(\n",
      "/Users/sindreoyen/Desktop/Sevilla/Aprendizaje Automatico/Excercises/Python-MachineLearning/.venv/lib/python3.10/site-packages/sklearn/neural_network/_multilayer_perceptron.py:691: ConvergenceWarning: Stochastic Optimizer: Maximum iterations (100) reached and the optimization hasn't converged yet.\n",
      "  warnings.warn(\n"
     ]
    },
    {
     "data": {
      "text/html": [
       "<style>#sk-container-id-19 {color: black;}#sk-container-id-19 pre{padding: 0;}#sk-container-id-19 div.sk-toggleable {background-color: white;}#sk-container-id-19 label.sk-toggleable__label {cursor: pointer;display: block;width: 100%;margin-bottom: 0;padding: 0.3em;box-sizing: border-box;text-align: center;}#sk-container-id-19 label.sk-toggleable__label-arrow:before {content: \"▸\";float: left;margin-right: 0.25em;color: #696969;}#sk-container-id-19 label.sk-toggleable__label-arrow:hover:before {color: black;}#sk-container-id-19 div.sk-estimator:hover label.sk-toggleable__label-arrow:before {color: black;}#sk-container-id-19 div.sk-toggleable__content {max-height: 0;max-width: 0;overflow: hidden;text-align: left;background-color: #f0f8ff;}#sk-container-id-19 div.sk-toggleable__content pre {margin: 0.2em;color: black;border-radius: 0.25em;background-color: #f0f8ff;}#sk-container-id-19 input.sk-toggleable__control:checked~div.sk-toggleable__content {max-height: 200px;max-width: 100%;overflow: auto;}#sk-container-id-19 input.sk-toggleable__control:checked~label.sk-toggleable__label-arrow:before {content: \"▾\";}#sk-container-id-19 div.sk-estimator input.sk-toggleable__control:checked~label.sk-toggleable__label {background-color: #d4ebff;}#sk-container-id-19 div.sk-label input.sk-toggleable__control:checked~label.sk-toggleable__label {background-color: #d4ebff;}#sk-container-id-19 input.sk-hidden--visually {border: 0;clip: rect(1px 1px 1px 1px);clip: rect(1px, 1px, 1px, 1px);height: 1px;margin: -1px;overflow: hidden;padding: 0;position: absolute;width: 1px;}#sk-container-id-19 div.sk-estimator {font-family: monospace;background-color: #f0f8ff;border: 1px dotted black;border-radius: 0.25em;box-sizing: border-box;margin-bottom: 0.5em;}#sk-container-id-19 div.sk-estimator:hover {background-color: #d4ebff;}#sk-container-id-19 div.sk-parallel-item::after {content: \"\";width: 100%;border-bottom: 1px solid gray;flex-grow: 1;}#sk-container-id-19 div.sk-label:hover label.sk-toggleable__label {background-color: #d4ebff;}#sk-container-id-19 div.sk-serial::before {content: \"\";position: absolute;border-left: 1px solid gray;box-sizing: border-box;top: 0;bottom: 0;left: 50%;z-index: 0;}#sk-container-id-19 div.sk-serial {display: flex;flex-direction: column;align-items: center;background-color: white;padding-right: 0.2em;padding-left: 0.2em;position: relative;}#sk-container-id-19 div.sk-item {position: relative;z-index: 1;}#sk-container-id-19 div.sk-parallel {display: flex;align-items: stretch;justify-content: center;background-color: white;position: relative;}#sk-container-id-19 div.sk-item::before, #sk-container-id-19 div.sk-parallel-item::before {content: \"\";position: absolute;border-left: 1px solid gray;box-sizing: border-box;top: 0;bottom: 0;left: 50%;z-index: -1;}#sk-container-id-19 div.sk-parallel-item {display: flex;flex-direction: column;z-index: 1;position: relative;background-color: white;}#sk-container-id-19 div.sk-parallel-item:first-child::after {align-self: flex-end;width: 50%;}#sk-container-id-19 div.sk-parallel-item:last-child::after {align-self: flex-start;width: 50%;}#sk-container-id-19 div.sk-parallel-item:only-child::after {width: 0;}#sk-container-id-19 div.sk-dashed-wrapped {border: 1px dashed gray;margin: 0 0.4em 0.5em 0.4em;box-sizing: border-box;padding-bottom: 0.4em;background-color: white;}#sk-container-id-19 div.sk-label label {font-family: monospace;font-weight: bold;display: inline-block;line-height: 1.2em;}#sk-container-id-19 div.sk-label-container {text-align: center;}#sk-container-id-19 div.sk-container {/* jupyter's `normalize.less` sets `[hidden] { display: none; }` but bootstrap.min.css set `[hidden] { display: none !important; }` so we also need the `!important` here to be able to override the default hidden behavior on the sphinx rendered scikit-learn.org. See: https://github.com/scikit-learn/scikit-learn/issues/21755 */display: inline-block !important;position: relative;}#sk-container-id-19 div.sk-text-repr-fallback {display: none;}</style><div id=\"sk-container-id-19\" class=\"sk-top-container\"><div class=\"sk-text-repr-fallback\"><pre>GridSearchCV(cv=3, estimator=MLPClassifier(max_iter=100, random_state=12),\n",
       "             n_jobs=-1,\n",
       "             param_grid={&#x27;activation&#x27;: [&#x27;tanh&#x27;, &#x27;relu&#x27;, &#x27;logistic&#x27;],\n",
       "                         &#x27;alpha&#x27;: [0.0001, 0.001, 0.01]},\n",
       "             verbose=1)</pre><b>In a Jupyter environment, please rerun this cell to show the HTML representation or trust the notebook. <br />On GitHub, the HTML representation is unable to render, please try loading this page with nbviewer.org.</b></div><div class=\"sk-container\" hidden><div class=\"sk-item sk-dashed-wrapped\"><div class=\"sk-label-container\"><div class=\"sk-label sk-toggleable\"><input class=\"sk-toggleable__control sk-hidden--visually\" id=\"sk-estimator-id-19\" type=\"checkbox\" ><label for=\"sk-estimator-id-19\" class=\"sk-toggleable__label sk-toggleable__label-arrow\">GridSearchCV</label><div class=\"sk-toggleable__content\"><pre>GridSearchCV(cv=3, estimator=MLPClassifier(max_iter=100, random_state=12),\n",
       "             n_jobs=-1,\n",
       "             param_grid={&#x27;activation&#x27;: [&#x27;tanh&#x27;, &#x27;relu&#x27;, &#x27;logistic&#x27;],\n",
       "                         &#x27;alpha&#x27;: [0.0001, 0.001, 0.01]},\n",
       "             verbose=1)</pre></div></div></div><div class=\"sk-parallel\"><div class=\"sk-parallel-item\"><div class=\"sk-item\"><div class=\"sk-label-container\"><div class=\"sk-label sk-toggleable\"><input class=\"sk-toggleable__control sk-hidden--visually\" id=\"sk-estimator-id-20\" type=\"checkbox\" ><label for=\"sk-estimator-id-20\" class=\"sk-toggleable__label sk-toggleable__label-arrow\">estimator: MLPClassifier</label><div class=\"sk-toggleable__content\"><pre>MLPClassifier(max_iter=100, random_state=12)</pre></div></div></div><div class=\"sk-serial\"><div class=\"sk-item\"><div class=\"sk-estimator sk-toggleable\"><input class=\"sk-toggleable__control sk-hidden--visually\" id=\"sk-estimator-id-21\" type=\"checkbox\" ><label for=\"sk-estimator-id-21\" class=\"sk-toggleable__label sk-toggleable__label-arrow\">MLPClassifier</label><div class=\"sk-toggleable__content\"><pre>MLPClassifier(max_iter=100, random_state=12)</pre></div></div></div></div></div></div></div></div></div></div>"
      ],
      "text/plain": [
       "GridSearchCV(cv=3, estimator=MLPClassifier(max_iter=100, random_state=12),\n",
       "             n_jobs=-1,\n",
       "             param_grid={'activation': ['tanh', 'relu', 'logistic'],\n",
       "                         'alpha': [0.0001, 0.001, 0.01]},\n",
       "             verbose=1)"
      ]
     },
     "execution_count": 138,
     "metadata": {},
     "output_type": "execute_result"
    }
   ],
   "source": [
    "# NB!! Do not run this code block. It takes a long time to run.\n",
    "# The code is here to show how GridSearchCV has been used\n",
    "\n",
    "# Identifying the best parameters for the MLPClassifier\n",
    "# Create the parameter grid based on the results of random search\n",
    "params = {\n",
    "    'activation': ['tanh', 'relu', 'logistic'],\n",
    "    'alpha': [1e-4, 1e-3, 1e-2],\n",
    "}\n",
    "\n",
    "# Create a base model\n",
    "mlp = MLPClassifier(max_iter=100, random_state=12)\n",
    "\n",
    "# Instantiate the grid search model\n",
    "# n_jobs=-1 to use all processors\n",
    "# cv=3 to use 3-fold cross validation\n",
    "grid_search = GridSearchCV(estimator=mlp, param_grid=params,\n",
    "                           cv=3, n_jobs=-1, verbose=1)\n",
    "\n",
    "# Fit the grid search to the data\n",
    "grid_search.fit(X_train, y_train)"
   ]
  },
  {
   "cell_type": "code",
   "execution_count": 139,
   "metadata": {},
   "outputs": [
    {
     "name": "stdout",
     "output_type": "stream",
     "text": [
      "{'activation': 'relu', 'alpha': 0.0001}\n"
     ]
    }
   ],
   "source": [
    "print(grid_search.best_params_)"
   ]
  },
  {
   "cell_type": "markdown",
   "metadata": {},
   "source": [
    "I have ran some iterations with GridSearchCV with different param grids: \n",
    "\n",
    "- Iteration 1 (max iterations capped to 20):\n",
    "    - *{'activation': 'logistic', 'alpha': 0.01, 'hidden_layer_sizes': (100,), 'learning_rate': 'constant', 'solver': 'adam'}*\n",
    "- Iteration 2 (max iterations capped to 100):\n",
    "    - *{'activation': 'relu', 'alpha': 0.0001}*\n",
    "\n"
   ]
  },
  {
   "cell_type": "markdown",
   "metadata": {},
   "source": [
    "*Training the model with the identified best params*"
   ]
  },
  {
   "cell_type": "code",
   "execution_count": 8,
   "metadata": {},
   "outputs": [
    {
     "data": {
      "text/html": [
       "<style>#sk-container-id-1 {color: black;}#sk-container-id-1 pre{padding: 0;}#sk-container-id-1 div.sk-toggleable {background-color: white;}#sk-container-id-1 label.sk-toggleable__label {cursor: pointer;display: block;width: 100%;margin-bottom: 0;padding: 0.3em;box-sizing: border-box;text-align: center;}#sk-container-id-1 label.sk-toggleable__label-arrow:before {content: \"▸\";float: left;margin-right: 0.25em;color: #696969;}#sk-container-id-1 label.sk-toggleable__label-arrow:hover:before {color: black;}#sk-container-id-1 div.sk-estimator:hover label.sk-toggleable__label-arrow:before {color: black;}#sk-container-id-1 div.sk-toggleable__content {max-height: 0;max-width: 0;overflow: hidden;text-align: left;background-color: #f0f8ff;}#sk-container-id-1 div.sk-toggleable__content pre {margin: 0.2em;color: black;border-radius: 0.25em;background-color: #f0f8ff;}#sk-container-id-1 input.sk-toggleable__control:checked~div.sk-toggleable__content {max-height: 200px;max-width: 100%;overflow: auto;}#sk-container-id-1 input.sk-toggleable__control:checked~label.sk-toggleable__label-arrow:before {content: \"▾\";}#sk-container-id-1 div.sk-estimator input.sk-toggleable__control:checked~label.sk-toggleable__label {background-color: #d4ebff;}#sk-container-id-1 div.sk-label input.sk-toggleable__control:checked~label.sk-toggleable__label {background-color: #d4ebff;}#sk-container-id-1 input.sk-hidden--visually {border: 0;clip: rect(1px 1px 1px 1px);clip: rect(1px, 1px, 1px, 1px);height: 1px;margin: -1px;overflow: hidden;padding: 0;position: absolute;width: 1px;}#sk-container-id-1 div.sk-estimator {font-family: monospace;background-color: #f0f8ff;border: 1px dotted black;border-radius: 0.25em;box-sizing: border-box;margin-bottom: 0.5em;}#sk-container-id-1 div.sk-estimator:hover {background-color: #d4ebff;}#sk-container-id-1 div.sk-parallel-item::after {content: \"\";width: 100%;border-bottom: 1px solid gray;flex-grow: 1;}#sk-container-id-1 div.sk-label:hover label.sk-toggleable__label {background-color: #d4ebff;}#sk-container-id-1 div.sk-serial::before {content: \"\";position: absolute;border-left: 1px solid gray;box-sizing: border-box;top: 0;bottom: 0;left: 50%;z-index: 0;}#sk-container-id-1 div.sk-serial {display: flex;flex-direction: column;align-items: center;background-color: white;padding-right: 0.2em;padding-left: 0.2em;position: relative;}#sk-container-id-1 div.sk-item {position: relative;z-index: 1;}#sk-container-id-1 div.sk-parallel {display: flex;align-items: stretch;justify-content: center;background-color: white;position: relative;}#sk-container-id-1 div.sk-item::before, #sk-container-id-1 div.sk-parallel-item::before {content: \"\";position: absolute;border-left: 1px solid gray;box-sizing: border-box;top: 0;bottom: 0;left: 50%;z-index: -1;}#sk-container-id-1 div.sk-parallel-item {display: flex;flex-direction: column;z-index: 1;position: relative;background-color: white;}#sk-container-id-1 div.sk-parallel-item:first-child::after {align-self: flex-end;width: 50%;}#sk-container-id-1 div.sk-parallel-item:last-child::after {align-self: flex-start;width: 50%;}#sk-container-id-1 div.sk-parallel-item:only-child::after {width: 0;}#sk-container-id-1 div.sk-dashed-wrapped {border: 1px dashed gray;margin: 0 0.4em 0.5em 0.4em;box-sizing: border-box;padding-bottom: 0.4em;background-color: white;}#sk-container-id-1 div.sk-label label {font-family: monospace;font-weight: bold;display: inline-block;line-height: 1.2em;}#sk-container-id-1 div.sk-label-container {text-align: center;}#sk-container-id-1 div.sk-container {/* jupyter's `normalize.less` sets `[hidden] { display: none; }` but bootstrap.min.css set `[hidden] { display: none !important; }` so we also need the `!important` here to be able to override the default hidden behavior on the sphinx rendered scikit-learn.org. See: https://github.com/scikit-learn/scikit-learn/issues/21755 */display: inline-block !important;position: relative;}#sk-container-id-1 div.sk-text-repr-fallback {display: none;}</style><div id=\"sk-container-id-1\" class=\"sk-top-container\"><div class=\"sk-text-repr-fallback\"><pre>MLPClassifier(alpha=0.001, max_iter=1000, random_state=12)</pre><b>In a Jupyter environment, please rerun this cell to show the HTML representation or trust the notebook. <br />On GitHub, the HTML representation is unable to render, please try loading this page with nbviewer.org.</b></div><div class=\"sk-container\" hidden><div class=\"sk-item\"><div class=\"sk-estimator sk-toggleable\"><input class=\"sk-toggleable__control sk-hidden--visually\" id=\"sk-estimator-id-1\" type=\"checkbox\" checked><label for=\"sk-estimator-id-1\" class=\"sk-toggleable__label sk-toggleable__label-arrow\">MLPClassifier</label><div class=\"sk-toggleable__content\"><pre>MLPClassifier(alpha=0.001, max_iter=1000, random_state=12)</pre></div></div></div></div></div>"
      ],
      "text/plain": [
       "MLPClassifier(alpha=0.001, max_iter=1000, random_state=12)"
      ]
     },
     "execution_count": 8,
     "metadata": {},
     "output_type": "execute_result"
    }
   ],
   "source": [
    "# Create a new MLPClassifier with the best parameters\n",
    "best_params = {'activation': 'relu', 'alpha': 0.001} # grid_search.best_params_\n",
    "mlp = MLPClassifier(**best_params, max_iter=1000, random_state=12)\n",
    "mlp.fit(X_train, y_train)"
   ]
  },
  {
   "cell_type": "markdown",
   "metadata": {},
   "source": [
    "*Printing the accuracy of the model*"
   ]
  },
  {
   "cell_type": "code",
   "execution_count": 9,
   "metadata": {},
   "outputs": [
    {
     "name": "stdout",
     "output_type": "stream",
     "text": [
      "Training set accuracy score: 1.0\n",
      "Test set accuracy score: 0.85636\n"
     ]
    }
   ],
   "source": [
    "# Predicting the test set results\n",
    "y_pred = mlp.predict(X_test)\n",
    "y_pred_train = mlp.predict(X_train)\n",
    "\n",
    "# Print the accuracy scores\n",
    "from sklearn.metrics import accuracy_score\n",
    "print(\"Training set accuracy score:\", accuracy_score(y_train, y_pred_train))\n",
    "print(\"Test set accuracy score:\", accuracy_score(y_test, y_pred))"
   ]
  },
  {
   "cell_type": "markdown",
   "metadata": {},
   "source": [
    "##### Keras with `Sequential` implementation"
   ]
  },
  {
   "cell_type": "markdown",
   "metadata": {},
   "source": [
    "*I will now create a neural network for the same classification with Keras*"
   ]
  },
  {
   "cell_type": "code",
   "execution_count": 10,
   "metadata": {},
   "outputs": [],
   "source": [
    "import tensorflow as tf\n",
    "from tensorflow.keras.models import Sequential\n",
    "from tensorflow.keras.layers import Dense, Dropout\n",
    "from tensorflow.keras import regularizers"
   ]
  },
  {
   "cell_type": "code",
   "execution_count": 11,
   "metadata": {},
   "outputs": [
    {
     "name": "stdout",
     "output_type": "stream",
     "text": [
      "(25000, 1556)\n"
     ]
    }
   ],
   "source": [
    "print(X_train.shape)"
   ]
  },
  {
   "cell_type": "markdown",
   "metadata": {},
   "source": [
    "- *Using regularization to prevent overfitting.*\n",
    "- *Using dropout to prevent overfitting. This works because dropout randomly sets a fraction of input units to 0 at each update during training time.*\n",
    "- *Using sigmoid activation function for the output layer since we are doing binary classification*"
   ]
  },
  {
   "cell_type": "code",
   "execution_count": 12,
   "metadata": {},
   "outputs": [],
   "source": [
    "architectures = [\n",
    "    [Dense(128, activation='relu', kernel_regularizer=regularizers.l1(0.001), input_shape=(X_train.shape[1],)),\n",
    "        Dropout(0.5),\n",
    "        Dense(64, kernel_regularizer=regularizers.l1(0.001), activation='relu'),\n",
    "        Dropout(0.5),\n",
    "        Dense(32, kernel_regularizer=regularizers.l1(0.001), activation='relu'),\n",
    "        Dense(2, activation='sigmoid')\n",
    "     ],\n",
    "\n",
    "    [Dense(128, activation='relu', kernel_regularizer=regularizers.l2(0.001), input_shape=(X_train.shape[1],)),\n",
    "        Dropout(0.5),\n",
    "        Dense(64, kernel_regularizer=regularizers.l2(0.001), activation='relu'),\n",
    "        Dropout(0.5),\n",
    "        Dense(32, kernel_regularizer=regularizers.l2(0.001), activation='relu'),\n",
    "        Dropout(0.5),\n",
    "        Dense(2, activation='sigmoid')\n",
    "    ],\n",
    "]"
   ]
  },
  {
   "cell_type": "markdown",
   "metadata": {},
   "source": [
    "L2 regularizer is derivable, where as the L1 regularizer is not always that. As the model is going to be using SGD, the L2 regularizer may be favorable."
   ]
  },
  {
   "cell_type": "code",
   "execution_count": 13,
   "metadata": {},
   "outputs": [
    {
     "name": "stdout",
     "output_type": "stream",
     "text": [
      "Model: \"sequential\"\n",
      "_________________________________________________________________\n",
      " Layer (type)                Output Shape              Param #   \n",
      "=================================================================\n",
      " dense_4 (Dense)             (None, 128)               199296    \n",
      "                                                                 \n",
      " dropout_2 (Dropout)         (None, 128)               0         \n",
      "                                                                 \n",
      " dense_5 (Dense)             (None, 64)                8256      \n",
      "                                                                 \n",
      " dropout_3 (Dropout)         (None, 64)                0         \n",
      "                                                                 \n",
      " dense_6 (Dense)             (None, 32)                2080      \n",
      "                                                                 \n",
      " dropout_4 (Dropout)         (None, 32)                0         \n",
      "                                                                 \n",
      " dense_7 (Dense)             (None, 2)                 66        \n",
      "                                                                 \n",
      "=================================================================\n",
      "Total params: 209698 (819.13 KB)\n",
      "Trainable params: 209698 (819.13 KB)\n",
      "Non-trainable params: 0 (0.00 Byte)\n",
      "_________________________________________________________________\n"
     ]
    }
   ],
   "source": [
    "model = Sequential(architectures[1])\n",
    "\n",
    "model.summary()"
   ]
  },
  {
   "cell_type": "markdown",
   "metadata": {},
   "source": [
    "Compiling the method"
   ]
  },
  {
   "cell_type": "code",
   "execution_count": 14,
   "metadata": {},
   "outputs": [],
   "source": [
    "model.compile(optimizer='sgd',\n",
    "              loss='sparse_categorical_crossentropy',\n",
    "              metrics=['accuracy'])"
   ]
  },
  {
   "cell_type": "code",
   "execution_count": 18,
   "metadata": {},
   "outputs": [
    {
     "name": "stdout",
     "output_type": "stream",
     "text": [
      "Epoch 1/100\n",
      "782/782 [==============================] - 4s 6ms/step - loss: 0.3327 - accuracy: 0.9461 - val_loss: 0.5805 - val_accuracy: 0.8542\n",
      "Epoch 2/100\n",
      "782/782 [==============================] - 4s 5ms/step - loss: 0.3239 - accuracy: 0.9486 - val_loss: 0.5880 - val_accuracy: 0.8536\n",
      "Epoch 3/100\n",
      "782/782 [==============================] - 4s 5ms/step - loss: 0.3245 - accuracy: 0.9481 - val_loss: 0.5838 - val_accuracy: 0.8529\n",
      "Epoch 4/100\n",
      "782/782 [==============================] - 5s 6ms/step - loss: 0.3181 - accuracy: 0.9496 - val_loss: 0.5936 - val_accuracy: 0.8541\n",
      "Epoch 5/100\n",
      "782/782 [==============================] - 4s 5ms/step - loss: 0.3192 - accuracy: 0.9463 - val_loss: 0.5914 - val_accuracy: 0.8538\n",
      "Epoch 6/100\n",
      "782/782 [==============================] - 4s 5ms/step - loss: 0.3064 - accuracy: 0.9533 - val_loss: 0.5970 - val_accuracy: 0.8565\n",
      "Epoch 7/100\n",
      "782/782 [==============================] - 4s 5ms/step - loss: 0.2991 - accuracy: 0.9538 - val_loss: 0.5933 - val_accuracy: 0.8553\n",
      "Epoch 8/100\n",
      "782/782 [==============================] - 4s 5ms/step - loss: 0.2976 - accuracy: 0.9544 - val_loss: 0.5875 - val_accuracy: 0.8534\n",
      "Epoch 9/100\n",
      "782/782 [==============================] - 4s 5ms/step - loss: 0.2856 - accuracy: 0.9589 - val_loss: 0.5948 - val_accuracy: 0.8550\n",
      "Epoch 10/100\n",
      "782/782 [==============================] - 4s 5ms/step - loss: 0.2858 - accuracy: 0.9568 - val_loss: 0.6898 - val_accuracy: 0.8380\n",
      "Epoch 11/100\n",
      "782/782 [==============================] - 4s 6ms/step - loss: 0.2855 - accuracy: 0.9566 - val_loss: 0.5993 - val_accuracy: 0.8520\n",
      "Epoch 12/100\n",
      "782/782 [==============================] - 4s 5ms/step - loss: 0.2751 - accuracy: 0.9602 - val_loss: 0.6212 - val_accuracy: 0.8516\n",
      "Epoch 13/100\n",
      "782/782 [==============================] - 5s 7ms/step - loss: 0.2730 - accuracy: 0.9602 - val_loss: 0.6062 - val_accuracy: 0.8521\n",
      "Epoch 14/100\n",
      "782/782 [==============================] - 6s 7ms/step - loss: 0.2638 - accuracy: 0.9627 - val_loss: 0.6258 - val_accuracy: 0.8537\n",
      "Epoch 15/100\n",
      "782/782 [==============================] - 5s 6ms/step - loss: 0.2682 - accuracy: 0.9618 - val_loss: 0.6104 - val_accuracy: 0.8534\n",
      "Epoch 16/100\n",
      "782/782 [==============================] - 4s 6ms/step - loss: 0.2649 - accuracy: 0.9611 - val_loss: 0.6019 - val_accuracy: 0.8520\n",
      "Epoch 17/100\n",
      "782/782 [==============================] - 5s 7ms/step - loss: 0.2594 - accuracy: 0.9652 - val_loss: 0.6181 - val_accuracy: 0.8536\n",
      "Epoch 18/100\n",
      "782/782 [==============================] - 5s 7ms/step - loss: 0.2544 - accuracy: 0.9652 - val_loss: 0.6313 - val_accuracy: 0.8527\n",
      "Epoch 19/100\n",
      "782/782 [==============================] - 5s 6ms/step - loss: 0.2587 - accuracy: 0.9636 - val_loss: 0.6252 - val_accuracy: 0.8539\n",
      "Epoch 20/100\n",
      "782/782 [==============================] - 5s 6ms/step - loss: 0.2586 - accuracy: 0.9627 - val_loss: 0.6285 - val_accuracy: 0.8505\n",
      "Epoch 21/100\n",
      "782/782 [==============================] - 5s 7ms/step - loss: 0.2537 - accuracy: 0.9650 - val_loss: 0.6332 - val_accuracy: 0.8530\n",
      "Epoch 22/100\n",
      "782/782 [==============================] - 5s 7ms/step - loss: 0.2538 - accuracy: 0.9638 - val_loss: 0.6180 - val_accuracy: 0.8544\n",
      "Epoch 23/100\n",
      "782/782 [==============================] - 5s 6ms/step - loss: 0.2428 - accuracy: 0.9677 - val_loss: 0.6388 - val_accuracy: 0.8549\n",
      "Epoch 24/100\n",
      "782/782 [==============================] - 5s 6ms/step - loss: 0.2477 - accuracy: 0.9660 - val_loss: 0.6268 - val_accuracy: 0.8544\n",
      "Epoch 25/100\n",
      "782/782 [==============================] - 6s 7ms/step - loss: 0.2439 - accuracy: 0.9669 - val_loss: 0.6274 - val_accuracy: 0.8524\n",
      "Epoch 26/100\n",
      "782/782 [==============================] - 5s 6ms/step - loss: 0.2412 - accuracy: 0.9668 - val_loss: 0.6311 - val_accuracy: 0.8522\n",
      "Epoch 27/100\n",
      "782/782 [==============================] - 5s 6ms/step - loss: 0.2349 - accuracy: 0.9693 - val_loss: 0.6385 - val_accuracy: 0.8523\n",
      "Epoch 28/100\n",
      "782/782 [==============================] - 5s 6ms/step - loss: 0.2359 - accuracy: 0.9688 - val_loss: 0.6295 - val_accuracy: 0.8538\n",
      "Epoch 29/100\n",
      "782/782 [==============================] - 5s 6ms/step - loss: 0.2335 - accuracy: 0.9696 - val_loss: 0.6511 - val_accuracy: 0.8524\n",
      "Epoch 30/100\n",
      "782/782 [==============================] - 5s 6ms/step - loss: 0.2306 - accuracy: 0.9704 - val_loss: 0.6434 - val_accuracy: 0.8538\n",
      "Epoch 31/100\n",
      "782/782 [==============================] - 5s 6ms/step - loss: 0.2313 - accuracy: 0.9698 - val_loss: 0.6244 - val_accuracy: 0.8515\n",
      "Epoch 32/100\n",
      "782/782 [==============================] - 5s 6ms/step - loss: 0.2293 - accuracy: 0.9704 - val_loss: 0.6253 - val_accuracy: 0.8532\n",
      "Epoch 33/100\n",
      "782/782 [==============================] - 5s 6ms/step - loss: 0.2271 - accuracy: 0.9703 - val_loss: 0.6609 - val_accuracy: 0.8470\n",
      "Epoch 34/100\n",
      "782/782 [==============================] - 6s 7ms/step - loss: 0.2279 - accuracy: 0.9710 - val_loss: 0.6478 - val_accuracy: 0.8520\n",
      "Epoch 35/100\n",
      "782/782 [==============================] - 5s 6ms/step - loss: 0.2271 - accuracy: 0.9708 - val_loss: 0.6373 - val_accuracy: 0.8493\n",
      "Epoch 36/100\n",
      "782/782 [==============================] - 6s 8ms/step - loss: 0.2237 - accuracy: 0.9703 - val_loss: 0.6588 - val_accuracy: 0.8546\n",
      "Epoch 37/100\n",
      "782/782 [==============================] - 5s 6ms/step - loss: 0.2208 - accuracy: 0.9719 - val_loss: 0.6249 - val_accuracy: 0.8526\n",
      "Epoch 38/100\n",
      "782/782 [==============================] - 5s 6ms/step - loss: 0.2143 - accuracy: 0.9744 - val_loss: 0.6530 - val_accuracy: 0.8549\n",
      "Epoch 39/100\n",
      "782/782 [==============================] - 4s 6ms/step - loss: 0.2137 - accuracy: 0.9737 - val_loss: 0.6307 - val_accuracy: 0.8548\n",
      "Epoch 40/100\n",
      "782/782 [==============================] - 4s 6ms/step - loss: 0.2144 - accuracy: 0.9743 - val_loss: 0.6417 - val_accuracy: 0.8558\n",
      "Epoch 41/100\n",
      "782/782 [==============================] - 5s 6ms/step - loss: 0.2156 - accuracy: 0.9738 - val_loss: 0.7121 - val_accuracy: 0.8483\n",
      "Epoch 42/100\n",
      "782/782 [==============================] - 5s 6ms/step - loss: 0.2247 - accuracy: 0.9696 - val_loss: 0.6281 - val_accuracy: 0.8503\n",
      "Epoch 43/100\n",
      "782/782 [==============================] - 5s 6ms/step - loss: 0.2182 - accuracy: 0.9720 - val_loss: 0.6073 - val_accuracy: 0.8520\n",
      "Epoch 44/100\n",
      "782/782 [==============================] - 5s 6ms/step - loss: 0.2110 - accuracy: 0.9750 - val_loss: 0.6386 - val_accuracy: 0.8566\n",
      "Epoch 45/100\n",
      "782/782 [==============================] - 4s 6ms/step - loss: 0.2112 - accuracy: 0.9736 - val_loss: 0.6320 - val_accuracy: 0.8530\n",
      "Epoch 46/100\n",
      "782/782 [==============================] - 4s 6ms/step - loss: 0.2124 - accuracy: 0.9745 - val_loss: 0.6415 - val_accuracy: 0.8539\n",
      "Epoch 47/100\n",
      "782/782 [==============================] - 4s 6ms/step - loss: 0.2076 - accuracy: 0.9752 - val_loss: 0.6375 - val_accuracy: 0.8541\n",
      "Epoch 48/100\n",
      "782/782 [==============================] - 4s 6ms/step - loss: 0.2022 - accuracy: 0.9767 - val_loss: 0.6490 - val_accuracy: 0.8542\n",
      "Epoch 49/100\n",
      "782/782 [==============================] - 4s 6ms/step - loss: 0.2074 - accuracy: 0.9742 - val_loss: 0.6348 - val_accuracy: 0.8538\n",
      "Epoch 50/100\n",
      "782/782 [==============================] - 4s 6ms/step - loss: 0.2032 - accuracy: 0.9751 - val_loss: 0.6408 - val_accuracy: 0.8496\n",
      "Epoch 51/100\n",
      "782/782 [==============================] - 4s 5ms/step - loss: 0.2054 - accuracy: 0.9758 - val_loss: 0.6464 - val_accuracy: 0.8544\n",
      "Epoch 52/100\n",
      "782/782 [==============================] - 4s 6ms/step - loss: 0.2109 - accuracy: 0.9740 - val_loss: 0.6322 - val_accuracy: 0.8530\n",
      "Epoch 53/100\n",
      "782/782 [==============================] - 4s 6ms/step - loss: 0.2077 - accuracy: 0.9729 - val_loss: 0.6391 - val_accuracy: 0.8523\n",
      "Epoch 54/100\n",
      "782/782 [==============================] - 4s 5ms/step - loss: 0.2013 - accuracy: 0.9763 - val_loss: 0.6386 - val_accuracy: 0.8542\n",
      "Epoch 55/100\n",
      "782/782 [==============================] - 4s 6ms/step - loss: 0.2043 - accuracy: 0.9750 - val_loss: 0.6419 - val_accuracy: 0.8541\n",
      "Epoch 56/100\n",
      "782/782 [==============================] - 4s 6ms/step - loss: 0.1979 - accuracy: 0.9780 - val_loss: 0.6356 - val_accuracy: 0.8509\n",
      "Epoch 57/100\n",
      "782/782 [==============================] - 4s 6ms/step - loss: 0.2026 - accuracy: 0.9766 - val_loss: 0.6284 - val_accuracy: 0.8542\n",
      "Epoch 58/100\n",
      "782/782 [==============================] - 4s 6ms/step - loss: 0.1964 - accuracy: 0.9763 - val_loss: 0.6597 - val_accuracy: 0.8525\n",
      "Epoch 59/100\n",
      "782/782 [==============================] - 4s 5ms/step - loss: 0.1998 - accuracy: 0.9762 - val_loss: 0.6501 - val_accuracy: 0.8548\n",
      "Epoch 60/100\n",
      "782/782 [==============================] - 5s 6ms/step - loss: 0.1950 - accuracy: 0.9771 - val_loss: 0.6593 - val_accuracy: 0.8543\n",
      "Epoch 61/100\n",
      "782/782 [==============================] - 4s 6ms/step - loss: 0.1935 - accuracy: 0.9780 - val_loss: 0.6632 - val_accuracy: 0.8509\n",
      "Epoch 62/100\n",
      "782/782 [==============================] - 4s 5ms/step - loss: 0.1944 - accuracy: 0.9778 - val_loss: 0.6366 - val_accuracy: 0.8494\n",
      "Epoch 63/100\n",
      "782/782 [==============================] - 4s 5ms/step - loss: 0.1917 - accuracy: 0.9782 - val_loss: 0.6507 - val_accuracy: 0.8545\n",
      "Epoch 64/100\n",
      "782/782 [==============================] - 4s 5ms/step - loss: 0.2011 - accuracy: 0.9752 - val_loss: 0.6555 - val_accuracy: 0.8518\n",
      "Epoch 65/100\n",
      "782/782 [==============================] - 4s 6ms/step - loss: 0.1907 - accuracy: 0.9786 - val_loss: 0.6638 - val_accuracy: 0.8528\n",
      "Epoch 66/100\n",
      "782/782 [==============================] - 4s 6ms/step - loss: 0.1997 - accuracy: 0.9752 - val_loss: 0.6555 - val_accuracy: 0.8552\n",
      "Epoch 67/100\n",
      "782/782 [==============================] - 4s 5ms/step - loss: 0.1910 - accuracy: 0.9777 - val_loss: 0.6597 - val_accuracy: 0.8547\n",
      "Epoch 68/100\n",
      "782/782 [==============================] - 4s 5ms/step - loss: 0.1903 - accuracy: 0.9765 - val_loss: 0.6605 - val_accuracy: 0.8551\n",
      "Epoch 69/100\n",
      "782/782 [==============================] - 4s 5ms/step - loss: 0.1937 - accuracy: 0.9762 - val_loss: 0.6231 - val_accuracy: 0.8512\n",
      "Epoch 70/100\n",
      "782/782 [==============================] - 4s 5ms/step - loss: 0.1899 - accuracy: 0.9777 - val_loss: 0.6476 - val_accuracy: 0.8532\n",
      "Epoch 71/100\n",
      "782/782 [==============================] - 4s 6ms/step - loss: 0.1921 - accuracy: 0.9773 - val_loss: 0.6456 - val_accuracy: 0.8532\n",
      "Epoch 72/100\n",
      "782/782 [==============================] - 4s 5ms/step - loss: 0.1865 - accuracy: 0.9784 - val_loss: 0.6451 - val_accuracy: 0.8515\n",
      "Epoch 73/100\n",
      "782/782 [==============================] - 4s 5ms/step - loss: 0.1865 - accuracy: 0.9779 - val_loss: 0.6377 - val_accuracy: 0.8541\n",
      "Epoch 74/100\n",
      "782/782 [==============================] - 4s 5ms/step - loss: 0.1906 - accuracy: 0.9769 - val_loss: 0.6388 - val_accuracy: 0.8539\n",
      "Epoch 75/100\n",
      "782/782 [==============================] - 4s 5ms/step - loss: 0.1855 - accuracy: 0.9794 - val_loss: 0.6522 - val_accuracy: 0.8507\n",
      "Epoch 76/100\n",
      "782/782 [==============================] - 4s 5ms/step - loss: 0.1800 - accuracy: 0.9806 - val_loss: 0.6557 - val_accuracy: 0.8539\n",
      "Epoch 77/100\n",
      "782/782 [==============================] - 6s 8ms/step - loss: 0.1906 - accuracy: 0.9781 - val_loss: 0.6459 - val_accuracy: 0.8526\n",
      "Epoch 78/100\n",
      "782/782 [==============================] - 6s 7ms/step - loss: 0.1851 - accuracy: 0.9791 - val_loss: 0.6371 - val_accuracy: 0.8541\n",
      "Epoch 79/100\n",
      "782/782 [==============================] - 6s 7ms/step - loss: 0.1868 - accuracy: 0.9778 - val_loss: 0.6568 - val_accuracy: 0.8552\n",
      "Epoch 80/100\n",
      "782/782 [==============================] - 6s 7ms/step - loss: 0.1869 - accuracy: 0.9786 - val_loss: 0.6313 - val_accuracy: 0.8562\n",
      "Epoch 81/100\n",
      "782/782 [==============================] - 6s 7ms/step - loss: 0.1886 - accuracy: 0.9774 - val_loss: 0.6288 - val_accuracy: 0.8525\n",
      "Epoch 82/100\n",
      "782/782 [==============================] - 6s 7ms/step - loss: 0.1831 - accuracy: 0.9798 - val_loss: 0.6554 - val_accuracy: 0.8575\n",
      "Epoch 83/100\n",
      "782/782 [==============================] - 6s 7ms/step - loss: 0.1798 - accuracy: 0.9799 - val_loss: 0.6559 - val_accuracy: 0.8543\n",
      "Epoch 84/100\n",
      "782/782 [==============================] - 6s 7ms/step - loss: 0.1813 - accuracy: 0.9775 - val_loss: 0.6641 - val_accuracy: 0.8506\n",
      "Epoch 85/100\n",
      "782/782 [==============================] - 6s 7ms/step - loss: 0.1896 - accuracy: 0.9764 - val_loss: 0.6422 - val_accuracy: 0.8541\n",
      "Epoch 86/100\n",
      "782/782 [==============================] - 6s 8ms/step - loss: 0.1857 - accuracy: 0.9791 - val_loss: 0.6321 - val_accuracy: 0.8546\n",
      "Epoch 87/100\n",
      "782/782 [==============================] - 6s 7ms/step - loss: 0.1829 - accuracy: 0.9796 - val_loss: 0.6432 - val_accuracy: 0.8545\n",
      "Epoch 88/100\n",
      "782/782 [==============================] - 6s 7ms/step - loss: 0.1852 - accuracy: 0.9772 - val_loss: 0.6603 - val_accuracy: 0.8546\n",
      "Epoch 89/100\n",
      "782/782 [==============================] - 6s 7ms/step - loss: 0.1845 - accuracy: 0.9792 - val_loss: 0.6226 - val_accuracy: 0.8552\n",
      "Epoch 90/100\n",
      "782/782 [==============================] - 6s 7ms/step - loss: 0.1854 - accuracy: 0.9773 - val_loss: 0.6563 - val_accuracy: 0.8531\n",
      "Epoch 91/100\n",
      "782/782 [==============================] - 6s 7ms/step - loss: 0.1770 - accuracy: 0.9803 - val_loss: 0.6743 - val_accuracy: 0.8523\n",
      "Epoch 92/100\n",
      "782/782 [==============================] - 6s 7ms/step - loss: 0.1780 - accuracy: 0.9809 - val_loss: 0.6618 - val_accuracy: 0.8540\n",
      "Epoch 93/100\n",
      "782/782 [==============================] - 6s 7ms/step - loss: 0.1824 - accuracy: 0.9785 - val_loss: 0.6324 - val_accuracy: 0.8542\n",
      "Epoch 94/100\n",
      "782/782 [==============================] - 6s 8ms/step - loss: 0.1768 - accuracy: 0.9810 - val_loss: 0.6521 - val_accuracy: 0.8539\n",
      "Epoch 95/100\n",
      "782/782 [==============================] - 6s 8ms/step - loss: 0.1768 - accuracy: 0.9802 - val_loss: 0.6434 - val_accuracy: 0.8532\n",
      "Epoch 96/100\n",
      "782/782 [==============================] - 6s 8ms/step - loss: 0.1778 - accuracy: 0.9800 - val_loss: 0.6456 - val_accuracy: 0.8526\n",
      "Epoch 97/100\n",
      "782/782 [==============================] - 6s 8ms/step - loss: 0.1823 - accuracy: 0.9781 - val_loss: 0.6394 - val_accuracy: 0.8526\n",
      "Epoch 98/100\n",
      "782/782 [==============================] - 7s 8ms/step - loss: 0.1793 - accuracy: 0.9789 - val_loss: 0.6488 - val_accuracy: 0.8548\n",
      "Epoch 99/100\n",
      "782/782 [==============================] - 6s 8ms/step - loss: 0.1801 - accuracy: 0.9787 - val_loss: 0.6313 - val_accuracy: 0.8541\n",
      "Epoch 100/100\n",
      "782/782 [==============================] - 7s 8ms/step - loss: 0.1757 - accuracy: 0.9806 - val_loss: 0.6441 - val_accuracy: 0.8538\n"
     ]
    }
   ],
   "source": [
    "history = model.fit(X_train, y_train, epochs=100, batch_size=32, validation_data=(X_test, y_test))"
   ]
  },
  {
   "cell_type": "code",
   "execution_count": 19,
   "metadata": {},
   "outputs": [
    {
     "data": {
      "image/png": "[encoded data removed]",
      "text/plain": [
       "<Figure size 800x500 with 1 Axes>"
      ]
     },
     "metadata": {},
     "output_type": "display_data"
    }
   ],
   "source": [
    "import pandas as pd\n",
    "import matplotlib.pyplot as plt\n",
    "\n",
    "pd.DataFrame(history.history).plot(figsize=(8, 5))\n",
    "plt.grid(True)\n",
    "plt.gca().set_ylim(0.35, 0.97)\n",
    "plt.show()"
   ]
  },
  {
   "cell_type": "code",
   "execution_count": null,
   "metadata": {},
   "outputs": [],
   "source": []
  }
 ],
 "metadata": {
  "kernelspec": {
   "display_name": "Python 3",
   "language": "python",
   "name": "python3"
  },
  "language_info": {
   "codemirror_mode": {
    "name": "ipython",
    "version": 3
   },
   "file_extension": ".py",
   "mimetype": "text/x-python",
   "name": "python",
   "nbconvert_exporter": "python",
   "pygments_lexer": "ipython3",
   "version": "3.10.0"
  }
 },
 "nbformat": 4,
 "nbformat_minor": 2
}
