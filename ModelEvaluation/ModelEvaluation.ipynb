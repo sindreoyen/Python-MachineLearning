{
 "cells": [
  {
   "cell_type": "markdown",
   "metadata": {},
   "source": [
    "# Evaluación de modelos (ejercicio)"
   ]
  },
  {
   "cell_type": "markdown",
   "metadata": {},
   "source": [
    "### **Importante: comentar adecuadamente cada paso realizado**, relacionándolo con lo visto en la teoría."
   ]
  },
  {
   "cell_type": "markdown",
   "metadata": {},
   "source": [
    "Para este ejercicio usaremos de nuevo los datos de cáncer de mama que están accesibles en scikit-learn."
   ]
  },
  {
   "cell_type": "code",
   "execution_count": 1,
   "metadata": {},
   "outputs": [],
   "source": [
    "from sklearn.datasets import load_breast_cancer\n",
    "cancer = load_breast_cancer()"
   ]
  },
  {
   "cell_type": "markdown",
   "metadata": {},
   "source": [
    "## Parte 1: validación cruzada estratificada"
   ]
  },
  {
   "cell_type": "markdown",
   "metadata": {},
   "source": [
    "Se pide implementar una funcion `mi_cross_val_f1` que aplique validación cruzada con $k$ particiones estratificadas, y que use **$F_1$ como métrica**. Similar a la función `cross_val_score`, pero específicamente con particiones estratificadas y métrica $F_1$, **y obviamente sin usar `cross_val_score`**.  \n",
    "\n",
    "En concreto, la función debe tener los siguientes argumentos de entrada, `mi_cross_val_f1`*(modelo,X,y,n_splits=5,clase_positiva=1)*, donde:\n",
    "\n",
    "- *modelo* es un un clasificador (en particular, un objeto de una clase que tenga métodos `fit` y `predict`).\n",
    "- *X* es un array con los datos.\n",
    "- *y* es un array con la clasificación (binaria) de los datos anteriores.\n",
    "- *n_splits* es el número de particiones en la validación cruzada. Por defecto es 5.\n",
    "- *clase_positiva* la clase que se ha considerar como positiva cuando se calcule la métrica $F_1$. Por defecto es 1. Nótese que al calcular la métrica $F_1$ debemos saber qué clase es la que se considera como positiva.  \n",
    "\n",
    "Debe devolver una lista o array con *n_splits* números, los resultados de las *n_splits* evaluaciones de la métrica $F_1$ que se realizan al aplicar validación cruzada con *n_splits* particiones estratificadas. \n",
    "\n",
    "**Nota**: no se puede usar `cross_val_score`, pero se debe usar `f1_score`y la clase `StratifiedKFold` (consultar la documentación de ambas)"
   ]
  },
  {
   "cell_type": "markdown",
   "metadata": {},
   "source": [
    "---\n",
    "#### 1.1 Stratified Cross-Validation Impl\n",
    "*In this part I will implement a cross-validation method with k-partitions and $F_1$ as metric.*"
   ]
  },
  {
   "cell_type": "code",
   "execution_count": 2,
   "metadata": {},
   "outputs": [],
   "source": [
    "import numpy as np\n",
    "from sklearn.model_selection import StratifiedKFold\n",
    "from sklearn.metrics import f1_score"
   ]
  },
  {
   "cell_type": "markdown",
   "metadata": {},
   "source": [
    "*In this implementation I will be using the `StratifiedKFold` and `f1_score` from the scikit-learn library.*\n",
    "\n",
    "- StratifiedKFold is simply a k-fold algorithm that divides the dataset into k *stratified* folds.\n",
    "- $F_1$ scores are based on precision and recall relative to the label that is identified as the positive label in the binary classification. Because the $F_1$ score balances both precision and recall, it can be a very useful measure, especially if you are working with data where one of the classifications is overrepresented. What is meant by precision and recall can be simply explained:\n",
    "    - Precision: When the model predicts a positive label for a data entry, how often is it correct?\n",
    "    - Recall: How many of the actual positive data entries is the model labeling as the positive label?\n",
    "    \n",
    "    Keeping in mind this understanding of how $F_1$ scoring works, the reason for why we need the clase_positiva parameter is trivial."
   ]
  },
  {
   "cell_type": "code",
   "execution_count": 3,
   "metadata": {},
   "outputs": [],
   "source": [
    "def mi_cross_val_f1(modelo, X, y, n_splits=5, clase_positiva=1):\n",
    "    ''' \n",
    "    Using stratified k-fold cross validation with f1 score as the metric\n",
    "    to evaluate the model performance\n",
    "\n",
    "    Parameters\n",
    "    ----------\n",
    "    modelo: modelo is the classifier to be used\n",
    "    X: array-like\n",
    "        X is the data\n",
    "    y: array-like\n",
    "        y is the target\n",
    "    n_splits: int\n",
    "        n_splits is the number of splits to be used in the cross validation\n",
    "    clase_positiva: int\n",
    "        clase_positiva is the positive class to be used in the f1 score\n",
    "    \n",
    "    Returns\n",
    "    -------\n",
    "    list\n",
    "        A list with the f1 score for each fold\n",
    "    '''\n",
    "    # Using, as instructed in the task description the StratifiedKFold and f1_score from scikit-learn\n",
    "    skf = StratifiedKFold(n_splits=n_splits)\n",
    "    f1_scores = np.array([])\n",
    "\n",
    "    # For each fold, we split the data into train and test, fit the model, predict and calculate the f1 score\n",
    "    for train_index, test_index in skf.split(X, y):\n",
    "        X_train, X_test = X[train_index], X[test_index] \n",
    "        y_train, y_test = y[train_index], y[test_index]\n",
    "        modelo.fit(X_train, y_train)\n",
    "        y_pred = modelo.predict(X_test)\n",
    "        f1_scores = np.append(f1_scores, f1_score(y_test, y_pred, pos_label=clase_positiva))\n",
    "    return f1_scores"
   ]
  },
  {
   "cell_type": "markdown",
   "metadata": {},
   "source": [
    "#### 1.2 Stratified Cross-Validation Testing"
   ]
  },
  {
   "cell_type": "markdown",
   "metadata": {},
   "source": [
    "##### 1.2.1 Setup for Tests"
   ]
  },
  {
   "cell_type": "code",
   "execution_count": 4,
   "metadata": {},
   "outputs": [],
   "source": [
    "# Import\n",
    "from sklearn.model_selection import train_test_split, cross_val_score\n",
    "from sklearn.metrics import make_scorer\n",
    "from sklearn.linear_model import LogisticRegression\n",
    "\n",
    "# Split the data\n",
    "X_train, X_test, y_train, y_test = train_test_split(\n",
    "    cancer.data, cancer.target, stratify=cancer.target, random_state=0)\n",
    "\n",
    "# Create the model\n",
    "logreg=LogisticRegression(solver=\"liblinear\")"
   ]
  },
  {
   "cell_type": "code",
   "execution_count": 5,
   "metadata": {},
   "outputs": [],
   "source": [
    "def assert_close(f1_scores, cross_val_score):\n",
    "    diffs = f1_scores - cross_val_score\n",
    "    print(\"Difference between the expected and the actual result:\")\n",
    "    print(diffs)\n",
    "\n",
    "    # Asserting that the difference is less than 1%\n",
    "    assert np.allclose(a=diffs, b=np.zeros(len(diffs)), rtol=1e-5, atol=1e-5)"
   ]
  },
  {
   "cell_type": "markdown",
   "metadata": {},
   "source": [
    "##### 1.2.2 Running Tests"
   ]
  },
  {
   "cell_type": "markdown",
   "metadata": {},
   "source": [
    "In this part I control that the results from the new implementation of `mi_cross_val_f1` coincides with the scikit-learn cross-val score."
   ]
  },
  {
   "cell_type": "markdown",
   "metadata": {},
   "source": [
    "*Test 1*"
   ]
  },
  {
   "cell_type": "code",
   "execution_count": 6,
   "metadata": {},
   "outputs": [
    {
     "name": "stdout",
     "output_type": "stream",
     "text": [
      "Difference between the expected and the actual result:\n",
      "[0. 0. 0. 0. 0.]\n"
     ]
    }
   ],
   "source": [
    "#### Test 1 ####\n",
    "#mi_cross_val_f1(logreg,X_train,y_train)\n",
    "assert_close(mi_cross_val_f1(logreg,X_train,y_train), \n",
    "             cross_val_score(logreg,X_train,y_train,scoring=make_scorer(f1_score),cv=5))"
   ]
  },
  {
   "cell_type": "markdown",
   "metadata": {},
   "source": [
    "*Test 2*"
   ]
  },
  {
   "cell_type": "code",
   "execution_count": 7,
   "metadata": {},
   "outputs": [
    {
     "name": "stdout",
     "output_type": "stream",
     "text": [
      "Difference between the expected and the actual result:\n",
      "[0. 0. 0. 0. 0. 0. 0. 0. 0. 0.]\n"
     ]
    }
   ],
   "source": [
    "#### Test 2 ####\n",
    "# mi_cross_val_f1(logreg,X_train,y_train,n_splits=10)\n",
    "assert_close(mi_cross_val_f1(logreg,X_train,y_train,n_splits=10), \n",
    "             cross_val_score(logreg,X_train,y_train,scoring=make_scorer(f1_score),cv=10))"
   ]
  },
  {
   "cell_type": "markdown",
   "metadata": {},
   "source": [
    "*Test 3*"
   ]
  },
  {
   "cell_type": "code",
   "execution_count": 8,
   "metadata": {},
   "outputs": [
    {
     "name": "stdout",
     "output_type": "stream",
     "text": [
      "Difference between the expected and the actual result:\n",
      "[0. 0. 0. 0. 0. 0. 0. 0. 0. 0.]\n"
     ]
    }
   ],
   "source": [
    "#### Test 3 ####\n",
    "# mi_cross_val_f1(logreg,X_train,y_train,n_splits=10,clase=0)\n",
    "assert_close(mi_cross_val_f1(logreg,X_train,y_train,n_splits=10,clase_positiva=0), \n",
    "             cross_val_score(logreg,X_train,y_train,scoring=make_scorer(f1_score,pos_label=0),cv=10))"
   ]
  },
  {
   "cell_type": "markdown",
   "metadata": {},
   "source": [
    "---"
   ]
  },
  {
   "cell_type": "markdown",
   "metadata": {},
   "source": [
    "## Parte 2: evaluación de modelos para datos del cáncer de mama"
   ]
  },
  {
   "cell_type": "markdown",
   "metadata": {},
   "source": [
    "En esta parte supondremos que queremos encontrar un buen modelo para clasificación en el caso del cáncer de mama. Nos restingiremos a dos familias de clasificadores:\n",
    "\n",
    "1. **SGDClassifier** con *loss=\"log\"*. Es decir, regresión logística mediante descenso por el gradiente. \n",
    "2. **SVC**, máquina de vectores soporte con kernels.\n",
    "\n",
    "En los datos del cáncer de mama, la clase 0 se corresponde con *maligno* y la clase 1 se corresponde con *benigno*. Supondremos también en esta sección que estamos interesado principalmente en el rendimiento sobre la detección del cáncer. Es decir, consideremos *maligno* como la clase positiva.\n",
    "\n",
    "**Nota importante**: la clase positiva por defecto en scikit-learn es 1, y en este caso queremos considerar la clase 0 como la positiva. Para ello tenemos dos opciones:\n",
    "\n",
    "- Usar el parámetro `pos_label` en las distintas funciones que usemos.\n",
    "- Hacer una transformación inicial de las clases, para poner el 1 como 0 y el 0 como 1. Eso se consigue fácilmente haciendo `1-cancer.target`"
   ]
  },
  {
   "cell_type": "code",
   "execution_count": 9,
   "metadata": {},
   "outputs": [],
   "source": [
    "# Split the data\n",
    "from sklearn.model_selection import train_test_split\n",
    "X_train, X_test, y_train, y_test = \\\n",
    "    train_test_split(cancer.data, 1-cancer.target, stratify=1-cancer.target, random_state=12)\n",
    "\n",
    "# Scaling the data\n",
    "from sklearn.preprocessing import StandardScaler\n",
    "scaler = StandardScaler()\n",
    "X_train_scaled = scaler.fit_transform(X_train)\n",
    "X_test_scaled = scaler.transform(X_test)\n",
    "\n",
    "# Defining the labels\n",
    "labels = [\"Benign\", \"Malignant\"]"
   ]
  },
  {
   "cell_type": "markdown",
   "metadata": {},
   "source": [
    "### 2.1 *Grid Search* con validación cruzada\n",
    "\n"
   ]
  },
  {
   "cell_type": "markdown",
   "metadata": {},
   "source": [
    "Aplicar `GridSearchCV` para ajustar hiperparámetros de los modelos `SGDClassifier`y `SVC`, aplicados al conjunto de datos del cáncer de mama.  En lugar de tratar de optimizar la tasa de aciertos, tratar de optimizar la métrica $F_1$ calculada considerando que los ejemplos de tumor \"maligno\" son los positivos. \n",
    "\n",
    "Tratar de encontrar valores optimos solo para aquellos hiperparámetos del modelo que te sean familiares y para valores de los que conozcas el significado. Probar con distintas rejillas. \n",
    "\n",
    "Una vez ajustados los dos modelos, dar para ambos:\n",
    "\n",
    "- La tasa de aciertos, tanto en el conjunto de entrenamiento como en el de prueba.\n",
    "- Matriz de confusión, tanto en entrenamiento como en prueba.\n",
    "- *Classification report*, tanto para entrenamiento como para prueba. \n",
    "\n",
    "Interpretar los resultados. \n"
   ]
  },
  {
   "cell_type": "code",
   "execution_count": 10,
   "metadata": {},
   "outputs": [],
   "source": [
    "from sklearn.model_selection import GridSearchCV\n",
    "from sklearn.linear_model import SGDClassifier\n",
    "from sklearn.svm import SVC"
   ]
  },
  {
   "cell_type": "markdown",
   "metadata": {},
   "source": [
    "I will now apply GridSearchCV in order to adjust and improve on the hyperparameters for the models. GridSearchCV is a cross-validation based parameter grid search that, based on a grid of different possible parameters - trains and cross-validates a model for each possibility, to encounter the best parameter combination."
   ]
  },
  {
   "cell_type": "markdown",
   "metadata": {},
   "source": [
    "For the SGD params I am creating a parameter grid with the `alpha` regularization parameter, the `penalty` parameter, the `learning_rate` parameter, as well as the `eta0` parameter. The `alpa` regularization parameter controls regularization such that higher `alpha` values gives stronger regularization. Also for the SGD grid search I am including the `penalty` parameter, basically which regularization term to use: here I am choosing to test with *L1 regularization* and *L2 regularization*. The `learning_rate` parameter determines how the learning rate changes over time (e.g., constant, decreasing), while `eta0` is the initial learning rate when the `learning_rate` is set to *constant*, *invscaling*, or *adaptive*.\n",
    "\n",
    "For the SVC grid search parameters I am controlling the `C` regularization parameter which for higher values leads to less regularization, opposite to that of the alpha parameter in the SGDClassifier. A low `C` value can lead to low bias but high variance (or overfitting), whilst a high `C` value can lead to high bias but low variance (or underfitting); it is thus important to also include in the testing. Furthermore, I am including the `gamma` parameter in the grid search, which represents the kernel coefficient used for *rbf*, *poly*, and *sigmoid* kernel functions - effectively altering the effect of each training example. Lastly, I am also trying different kernels by adjusting the `kernel` parameter."
   ]
  },
  {
   "cell_type": "code",
   "execution_count": 11,
   "metadata": {},
   "outputs": [
    {
     "name": "stdout",
     "output_type": "stream",
     "text": [
      "Best parameters for SGD:  {'alpha': 0.01, 'eta0': 0.01, 'learning_rate': 'optimal', 'penalty': 'l2'}\n",
      "Best parameters for SVC:  {'C': 10, 'gamma': 0.01, 'kernel': 'rbf', 'probability': True}\n"
     ]
    }
   ],
   "source": [
    "# I will use the SGD classifier with the log loss function, which is the same as the logistic regression with gradient descent\n",
    "sgd = SGDClassifier(loss=\"log_loss\", max_iter=10000)\n",
    "# Also initing the SVC with the default parameters\n",
    "svc = SVC(max_iter=15000)\n",
    "\n",
    "### Grid search ###\n",
    "# Setting the parameters for the grid \n",
    "# Getting all possible parameters for the SGD classifier\n",
    "params_sgd = {\"alpha\": [1e-4, 1e-3, 1e-2, 1e-1],\n",
    "                \"penalty\": [\"l1\", \"l2\"],\n",
    "                \"learning_rate\": [\"constant\", \"optimal\", \"invscaling\", \"adaptive\"],\n",
    "                \"eta0\": [0.01, 0.1, 1],}\n",
    "params_svc = {\"C\": [1e-3, 1e-2, 1e-1, 1, 10],\n",
    "                \"gamma\": [1e-4, 1e-3, 1e-2, 1e-1, \"scale\", \"auto\"],\n",
    "                \"kernel\": [\"linear\", \"poly\", \"rbf\", \"sigmoid\"],\n",
    "                \"probability\": [True, False],}\n",
    "# Using the grid search with 5-fold cross validation and f1 score as the metric\n",
    "grid_sgd = GridSearchCV(estimator=sgd, param_grid=params_sgd, scoring=make_scorer(f1_score), cv=5, n_jobs=-1)\n",
    "grid_svc = GridSearchCV(estimator=svc, param_grid=params_svc, scoring=make_scorer(f1_score), cv=5, n_jobs=-1)\n",
    "\n",
    "# Fitting the models\n",
    "grid_sgd.fit(X_train_scaled, y_train)\n",
    "grid_svc.fit(X_train_scaled, y_train)\n",
    "\n",
    "# Printing the best parameters\n",
    "print(\"Best parameters for SGD: \", grid_sgd.best_params_)\n",
    "print(\"Best parameters for SVC: \", grid_svc.best_params_)"
   ]
  },
  {
   "cell_type": "markdown",
   "metadata": {},
   "source": [
    "The results, as logged above are as follows:\n",
    "\n",
    "- `Best parameters for SGD:  {'alpha': 0.01, 'eta0': 0.01, 'learning_rate': 'constant', 'penalty': 'l2'}`\n",
    "\n",
    "- `Best parameters for SVC:  {'C': 10, 'gamma': 0.01, 'kernel': 'rbf', 'probability': True}`\n",
    "\n",
    "*Now we can extract the best estimators for further analysis:*"
   ]
  },
  {
   "cell_type": "code",
   "execution_count": 12,
   "metadata": {},
   "outputs": [
    {
     "data": {
      "text/html": [
       "<style>#sk-container-id-1 {color: black;}#sk-container-id-1 pre{padding: 0;}#sk-container-id-1 div.sk-toggleable {background-color: white;}#sk-container-id-1 label.sk-toggleable__label {cursor: pointer;display: block;width: 100%;margin-bottom: 0;padding: 0.3em;box-sizing: border-box;text-align: center;}#sk-container-id-1 label.sk-toggleable__label-arrow:before {content: \"▸\";float: left;margin-right: 0.25em;color: #696969;}#sk-container-id-1 label.sk-toggleable__label-arrow:hover:before {color: black;}#sk-container-id-1 div.sk-estimator:hover label.sk-toggleable__label-arrow:before {color: black;}#sk-container-id-1 div.sk-toggleable__content {max-height: 0;max-width: 0;overflow: hidden;text-align: left;background-color: #f0f8ff;}#sk-container-id-1 div.sk-toggleable__content pre {margin: 0.2em;color: black;border-radius: 0.25em;background-color: #f0f8ff;}#sk-container-id-1 input.sk-toggleable__control:checked~div.sk-toggleable__content {max-height: 200px;max-width: 100%;overflow: auto;}#sk-container-id-1 input.sk-toggleable__control:checked~label.sk-toggleable__label-arrow:before {content: \"▾\";}#sk-container-id-1 div.sk-estimator input.sk-toggleable__control:checked~label.sk-toggleable__label {background-color: #d4ebff;}#sk-container-id-1 div.sk-label input.sk-toggleable__control:checked~label.sk-toggleable__label {background-color: #d4ebff;}#sk-container-id-1 input.sk-hidden--visually {border: 0;clip: rect(1px 1px 1px 1px);clip: rect(1px, 1px, 1px, 1px);height: 1px;margin: -1px;overflow: hidden;padding: 0;position: absolute;width: 1px;}#sk-container-id-1 div.sk-estimator {font-family: monospace;background-color: #f0f8ff;border: 1px dotted black;border-radius: 0.25em;box-sizing: border-box;margin-bottom: 0.5em;}#sk-container-id-1 div.sk-estimator:hover {background-color: #d4ebff;}#sk-container-id-1 div.sk-parallel-item::after {content: \"\";width: 100%;border-bottom: 1px solid gray;flex-grow: 1;}#sk-container-id-1 div.sk-label:hover label.sk-toggleable__label {background-color: #d4ebff;}#sk-container-id-1 div.sk-serial::before {content: \"\";position: absolute;border-left: 1px solid gray;box-sizing: border-box;top: 0;bottom: 0;left: 50%;z-index: 0;}#sk-container-id-1 div.sk-serial {display: flex;flex-direction: column;align-items: center;background-color: white;padding-right: 0.2em;padding-left: 0.2em;position: relative;}#sk-container-id-1 div.sk-item {position: relative;z-index: 1;}#sk-container-id-1 div.sk-parallel {display: flex;align-items: stretch;justify-content: center;background-color: white;position: relative;}#sk-container-id-1 div.sk-item::before, #sk-container-id-1 div.sk-parallel-item::before {content: \"\";position: absolute;border-left: 1px solid gray;box-sizing: border-box;top: 0;bottom: 0;left: 50%;z-index: -1;}#sk-container-id-1 div.sk-parallel-item {display: flex;flex-direction: column;z-index: 1;position: relative;background-color: white;}#sk-container-id-1 div.sk-parallel-item:first-child::after {align-self: flex-end;width: 50%;}#sk-container-id-1 div.sk-parallel-item:last-child::after {align-self: flex-start;width: 50%;}#sk-container-id-1 div.sk-parallel-item:only-child::after {width: 0;}#sk-container-id-1 div.sk-dashed-wrapped {border: 1px dashed gray;margin: 0 0.4em 0.5em 0.4em;box-sizing: border-box;padding-bottom: 0.4em;background-color: white;}#sk-container-id-1 div.sk-label label {font-family: monospace;font-weight: bold;display: inline-block;line-height: 1.2em;}#sk-container-id-1 div.sk-label-container {text-align: center;}#sk-container-id-1 div.sk-container {/* jupyter's `normalize.less` sets `[hidden] { display: none; }` but bootstrap.min.css set `[hidden] { display: none !important; }` so we also need the `!important` here to be able to override the default hidden behavior on the sphinx rendered scikit-learn.org. See: https://github.com/scikit-learn/scikit-learn/issues/21755 */display: inline-block !important;position: relative;}#sk-container-id-1 div.sk-text-repr-fallback {display: none;}</style><div id=\"sk-container-id-1\" class=\"sk-top-container\"><div class=\"sk-text-repr-fallback\"><pre>SVC(C=10, gamma=0.01, max_iter=15000, probability=True)</pre><b>In a Jupyter environment, please rerun this cell to show the HTML representation or trust the notebook. <br />On GitHub, the HTML representation is unable to render, please try loading this page with nbviewer.org.</b></div><div class=\"sk-container\" hidden><div class=\"sk-item\"><div class=\"sk-estimator sk-toggleable\"><input class=\"sk-toggleable__control sk-hidden--visually\" id=\"sk-estimator-id-1\" type=\"checkbox\" checked><label for=\"sk-estimator-id-1\" class=\"sk-toggleable__label sk-toggleable__label-arrow\">SVC</label><div class=\"sk-toggleable__content\"><pre>SVC(C=10, gamma=0.01, max_iter=15000, probability=True)</pre></div></div></div></div></div>"
      ],
      "text/plain": [
       "SVC(C=10, gamma=0.01, max_iter=15000, probability=True)"
      ]
     },
     "execution_count": 12,
     "metadata": {},
     "output_type": "execute_result"
    }
   ],
   "source": [
    "# Best models for each classifier, from the grid search\n",
    "best_sgd = grid_sgd.best_estimator_\n",
    "best_sgd.fit(X_train_scaled, y_train)\n",
    "best_svc = grid_svc.best_estimator_\n",
    "best_svc.fit(X_train_scaled, y_train)"
   ]
  },
  {
   "cell_type": "markdown",
   "metadata": {},
   "source": [
    "*For the analysis I am going to look at (1) the success rates of both models, (2) the confusion matrix for the classifications, as well as (3) the classification report*"
   ]
  },
  {
   "cell_type": "code",
   "execution_count": 13,
   "metadata": {},
   "outputs": [],
   "source": [
    "import matplotlib.pyplot as plt\n",
    "from sklearn.metrics import confusion_matrix, ConfusionMatrixDisplay, classification_report"
   ]
  },
  {
   "cell_type": "code",
   "execution_count": 14,
   "metadata": {},
   "outputs": [],
   "source": [
    "def print_analysis(estimator, name):\n",
    "    '''Function to print the analysis of the model, including the train and test score, the confusion matrix and the classification report\n",
    "\n",
    "    Parameters\n",
    "    ----------\n",
    "    estimator: classifier\n",
    "        estimator is the model to be analysed\n",
    "    name: str\n",
    "        name is the name of the model\n",
    "    '''\n",
    "    print(\"\\n\" + \"#\"*10 + f\" Analysing the performance for the {name} model \" + \"#\"*10)\n",
    "    # Printing the hit-rate for the train and test data\n",
    "    print(\"# (1) Hit accuracy\")\n",
    "    print(\"Train score: \", estimator.score(X_train_scaled, y_train))\n",
    "    print(\"Test score: \", estimator.score(X_test_scaled, y_test))\n",
    "    \n",
    "    # Plotting the confusion matrix\n",
    "    print(\"\\n# (2) Confusion matrix\")\n",
    "    pred = estimator.predict(X_test_scaled)\n",
    "    conf_mat = confusion_matrix(y_test, pred)\n",
    "    disp = ConfusionMatrixDisplay(confusion_matrix=conf_mat, display_labels=labels)\n",
    "    disp.plot()\n",
    "    plt.show()\n",
    "\n",
    "    # Printing the classification report\n",
    "    print(\"\\n# (3) Classification report\")\n",
    "    print(classification_report(y_test, pred, target_names=labels))"
   ]
  },
  {
   "cell_type": "markdown",
   "metadata": {},
   "source": [
    "##### 2.1.1 SGD Analysis"
   ]
  },
  {
   "cell_type": "code",
   "execution_count": 15,
   "metadata": {},
   "outputs": [
    {
     "name": "stdout",
     "output_type": "stream",
     "text": [
      "\n",
      "########## Analysing the performance for the SGD model ##########\n",
      "# (1) Hit accuracy\n",
      "Train score:  0.9859154929577465\n",
      "Test score:  0.972027972027972\n",
      "\n",
      "# (2) Confusion matrix\n"
     ]
    },
    {
     "data": {
      "image/png": "[encoded data removed]",
      "text/plain": [
       "<Figure size 640x480 with 2 Axes>"
      ]
     },
     "metadata": {},
     "output_type": "display_data"
    },
    {
     "name": "stdout",
     "output_type": "stream",
     "text": [
      "\n",
      "# (3) Classification report\n",
      "              precision    recall  f1-score   support\n",
      "\n",
      "      Benign       0.96      1.00      0.98        90\n",
      "   Malignant       1.00      0.92      0.96        53\n",
      "\n",
      "    accuracy                           0.97       143\n",
      "   macro avg       0.98      0.96      0.97       143\n",
      "weighted avg       0.97      0.97      0.97       143\n",
      "\n"
     ]
    }
   ],
   "source": [
    "print_analysis(best_sgd, \"SGD\")"
   ]
  },
  {
   "cell_type": "markdown",
   "metadata": {},
   "source": [
    "##### 2.1.2 SVC Analysis"
   ]
  },
  {
   "cell_type": "code",
   "execution_count": 16,
   "metadata": {},
   "outputs": [
    {
     "name": "stdout",
     "output_type": "stream",
     "text": [
      "\n",
      "########## Analysing the performance for the SVC model ##########\n",
      "# (1) Hit accuracy\n",
      "Train score:  0.9906103286384976\n",
      "Test score:  0.9790209790209791\n",
      "\n",
      "# (2) Confusion matrix\n"
     ]
    },
    {
     "data": {
      "image/png": "[encoded data removed]",
      "text/plain": [
       "<Figure size 640x480 with 2 Axes>"
      ]
     },
     "metadata": {},
     "output_type": "display_data"
    },
    {
     "name": "stdout",
     "output_type": "stream",
     "text": [
      "\n",
      "# (3) Classification report\n",
      "              precision    recall  f1-score   support\n",
      "\n",
      "      Benign       0.97      1.00      0.98        90\n",
      "   Malignant       1.00      0.94      0.97        53\n",
      "\n",
      "    accuracy                           0.98       143\n",
      "   macro avg       0.98      0.97      0.98       143\n",
      "weighted avg       0.98      0.98      0.98       143\n",
      "\n"
     ]
    }
   ],
   "source": [
    "print_analysis(best_svc, \"SVC\")"
   ]
  },
  {
   "cell_type": "markdown",
   "metadata": {},
   "source": [
    "As is apparent in as of the results from the analysis, the performance of these models, as they stand now - is not optimal. Even though they have both a solid accuracy of around 97%, given the importance of the classifications - it is not good enough. There is still a >4-2% chance that you may have malignant cancer that will be coined as benign, which is scary. \n",
    "\n",
    "For this analysis, I could of course have analyzed more hyperparameters, but to save computational time I think this analysis is sufficient as a proof of concept. Depending on what use case these models would have, there are a lot of factors to take into account, overfitting e.g., is quintessential to be extremely wary of. The model may be close to 100% on the data defined using Holdout for the train-, test-, validate-split and still perform sub 90% on other sets; giving a false sense of security.\n",
    "\n",
    "Furthermore, it is important to keep in mind the balance of the data in the datasets. If you have a dataset with e.g., 980 benign cases of cancer and 20 malignant cases of cancer - if the model were to predict wrong in all cases of malignant cancer, and correct in all benign, it would still be of 98% accuracy. Thus, understanding the confusion matrices, classification reports, as well as working with measures such as the $F_1$ scoring, is vital to get an actual understanding of the model's performance."
   ]
  },
  {
   "cell_type": "markdown",
   "metadata": {},
   "source": [
    "### 2.2 Curvas *ROC* y *PR*\n",
    "\n",
    "Comparar ambos modelos construidos en el apartado anterior, dibujando sendas gráficas con las curvas ROC de ambos y con las curvas PR de ambos. Interretar las gráficas y calcular para ambos modelos la precisión media (*average precision*) y el área bajo la curva (*AUC*).\n",
    "\n",
    "Interpretar los resultados."
   ]
  },
  {
   "cell_type": "markdown",
   "metadata": {},
   "source": [
    "##### 2.2.1 Methods for ROC and PR Analysis"
   ]
  },
  {
   "cell_type": "markdown",
   "metadata": {},
   "source": [
    "**ROC Curve**"
   ]
  },
  {
   "cell_type": "markdown",
   "metadata": {},
   "source": [
    "*The ROC curve is a plot of the True Positive Rate (TPR) vs. the False Positive Rate (FPR), considering various thresholds. The area under the ROC curve (AUC) is a measure of how well the model is able to distinguish between classes. An AUC of 1 represents a perfect - or almost perfect - model, while an AUC of 0.5 represents a model that is no better than random guessing.*"
   ]
  },
  {
   "cell_type": "code",
   "execution_count": 17,
   "metadata": {},
   "outputs": [],
   "source": [
    "# Here I am using sklearns ROC assets to plot the ROC curve\n",
    "from sklearn.metrics import roc_curve, RocCurveDisplay, roc_auc_score\n",
    "\n",
    "def plot_roc_curve(estimator, name):\n",
    "    '''Function to plot the ROC curve for the given model\n",
    "\n",
    "    Parameters\n",
    "    ----------\n",
    "    estimator: classifier\n",
    "        estimator is the model to be analysed\n",
    "    name: str\n",
    "        name is the name of the model\n",
    "    '''\n",
    "    print(\"\\n\" + \"#\"*10 + f\" Plotting the ROC curve for the {name} model \" + \"#\"*10)\n",
    "    # Getting the probabilities for the positive class\n",
    "    y_pred = estimator.predict(X_test_scaled)\n",
    "    # Calculating the ROC curve\n",
    "    fpr, tpr, _ = roc_curve(y_test, y_pred, pos_label=1)\n",
    "    # Plotting the ROC curve\n",
    "    roc_auc = roc_auc_score(y_test, y_pred)\n",
    "    disp = RocCurveDisplay(fpr=fpr, tpr=tpr, roc_auc=roc_auc, estimator_name=name)\n",
    "    disp.plot()\n",
    "    plt.show()"
   ]
  },
  {
   "cell_type": "markdown",
   "metadata": {},
   "source": [
    "**PR Curve**"
   ]
  },
  {
   "cell_type": "markdown",
   "metadata": {},
   "source": [
    "*The PR curve is a graph showing the trade-off between precision and recall for different thresholds. A high area under the curve represents both high recall and high precision, where high precision relates to a low false positive rate, and high recall relates to a low false negative rate.*"
   ]
  },
  {
   "cell_type": "code",
   "execution_count": 18,
   "metadata": {},
   "outputs": [],
   "source": [
    "# Here I am using sklearns Precision Recall assets to plot the PR curve\n",
    "from sklearn.metrics import precision_recall_curve, PrecisionRecallDisplay, average_precision_score\n",
    "\n",
    "def plot_pr_curve(estimator, name):\n",
    "    '''Function to plot the PR curve for the given model\n",
    "\n",
    "    Parameters\n",
    "    ----------\n",
    "    estimator: classifier\n",
    "        estimator is the model to be analysed\n",
    "    name: str\n",
    "        name is the name of the model\n",
    "    '''\n",
    "    print(\"\\n\" + \"#\"*10 + f\" Plotting the PR curve for the {name} model \" + \"#\"*10)\n",
    "    # Getting the probabilities for the positive class\n",
    "    y_pred = estimator.predict(X_test_scaled)\n",
    "    # Calculating the PR curve\n",
    "    precision, recall, _ = precision_recall_curve(y_test, y_pred, pos_label=1)\n",
    "    # Plotting the PR curve\n",
    "    average_precision = average_precision_score(y_test, y_pred)\n",
    "    disp = PrecisionRecallDisplay(precision=precision, recall=recall, average_precision=average_precision, estimator_name=name)\n",
    "    disp.plot()\n",
    "    plt.show()"
   ]
  },
  {
   "cell_type": "markdown",
   "metadata": {},
   "source": [
    "##### 2.2.2 SGD Analysis: ROC and PR"
   ]
  },
  {
   "cell_type": "code",
   "execution_count": 19,
   "metadata": {},
   "outputs": [
    {
     "name": "stdout",
     "output_type": "stream",
     "text": [
      "\n",
      "########## Plotting the ROC curve for the SGD model ##########\n"
     ]
    },
    {
     "data": {
      "image/png": "[encoded data removed]",
      "text/plain": [
       "<Figure size 640x480 with 1 Axes>"
      ]
     },
     "metadata": {},
     "output_type": "display_data"
    },
    {
     "name": "stdout",
     "output_type": "stream",
     "text": [
      "\n",
      "########## Plotting the PR curve for the SGD model ##########\n"
     ]
    },
    {
     "data": {
      "image/png": "[encoded data removed]",
      "text/plain": [
       "<Figure size 640x480 with 1 Axes>"
      ]
     },
     "metadata": {},
     "output_type": "display_data"
    }
   ],
   "source": [
    "plot_roc_curve(best_sgd, \"SGD\")\n",
    "plot_pr_curve(best_sgd, \"SGD\")"
   ]
  },
  {
   "cell_type": "markdown",
   "metadata": {},
   "source": [
    "##### 2.2.3 SVC Analysis: ROC and PR"
   ]
  },
  {
   "cell_type": "code",
   "execution_count": 20,
   "metadata": {},
   "outputs": [
    {
     "name": "stdout",
     "output_type": "stream",
     "text": [
      "\n",
      "########## Plotting the ROC curve for the SVC model ##########\n"
     ]
    },
    {
     "data": {
      "image/png": "[encoded data removed]",
      "text/plain": [
       "<Figure size 640x480 with 1 Axes>"
      ]
     },
     "metadata": {},
     "output_type": "display_data"
    },
    {
     "name": "stdout",
     "output_type": "stream",
     "text": [
      "\n",
      "########## Plotting the PR curve for the SVC model ##########\n"
     ]
    },
    {
     "data": {
      "image/png": "[encoded data removed]",
      "text/plain": [
       "<Figure size 640x480 with 1 Axes>"
      ]
     },
     "metadata": {},
     "output_type": "display_data"
    }
   ],
   "source": [
    "plot_roc_curve(best_svc, \"SVC\")\n",
    "plot_pr_curve(best_svc, \"SVC\")"
   ]
  }
 ],
 "metadata": {
  "kernelspec": {
   "display_name": "Python 3",
   "language": "python",
   "name": "python3"
  },
  "language_info": {
   "codemirror_mode": {
    "name": "ipython",
    "version": 3
   },
   "file_extension": ".py",
   "mimetype": "text/x-python",
   "name": "python",
   "nbconvert_exporter": "python",
   "pygments_lexer": "ipython3",
   "version": "3.10.0"
  }
 },
 "nbformat": 4,
 "nbformat_minor": 2
}
